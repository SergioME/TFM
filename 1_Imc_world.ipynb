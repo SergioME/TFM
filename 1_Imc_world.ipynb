{
 "cells": [
  {
   "cell_type": "markdown",
   "metadata": {},
   "source": [
    "## 1_Imc_World\n",
    "\n",
    "### En este notebook vamos unir dos ficheros, el primero con los IMCs mundiales y un segundo con la longitud y latitud obteniendo un excel que usaremos en tableau.\n",
    "\n",
    "### Datos obtenidos en https://www.wikipedia.org/"
   ]
  },
  {
   "cell_type": "code",
   "execution_count": 34,
   "metadata": {},
   "outputs": [],
   "source": [
    "import pandas as pd\n",
    "import numpy as np\n",
    "from pandas import ExcelWriter"
   ]
  },
  {
   "cell_type": "code",
   "execution_count": 2,
   "metadata": {
    "scrolled": false
   },
   "outputs": [
    {
     "name": "stdout",
     "output_type": "stream",
     "text": [
      "total 11564\r\n",
      "-rw-r--r-- 1 dsc dsc   26141 oct  1 21:41 1_Imc_world.ipynb\r\n",
      "-rw-r--r-- 1 dsc dsc  302653 oct 18 19:27 2_Estudio_UK.ipynb\r\n",
      "-rw-r--r-- 1 dsc dsc  206938 nov  3 20:47 3_imc_pib.ipynb\r\n",
      "-rw-r--r-- 1 dsc dsc   85499 oct 23 20:55 4_Limpieza_Dataset1.ipynb\r\n",
      "-rw-r--r-- 1 dsc dsc  997771 nov  4 11:15 5_Machine_learning_WC_HIP.ipynb\r\n",
      "-rw-r--r-- 1 dsc dsc  543871 nov  4 12:01 6_Machine_learning_alimentación.ipynb\r\n",
      "-rw-r--r-- 1 dsc dsc 5523796 nov  4 12:01 7_Machine_learning_sangre.ipynb\r\n",
      "-rw-r--r-- 1 dsc dsc 3125578 nov  5 20:50 8_Machine_learning_diabetes.ipynb\r\n",
      "drwxr-xr-x 2 dsc dsc    4096 nov  4 13:58 DATA\r\n",
      "-rw-rw-r-- 1 dsc dsc  477261 oct  2 21:00 IMC_mundiales.twbx\r\n",
      "-rw-rw-r-- 1 dsc dsc  527844 oct 21 11:44 IMC_vs_pib.twbx\r\n",
      "drwxrwxr-x 3 dsc dsc    4096 nov  4 13:59 Modelizacion\r\n"
     ]
    }
   ],
   "source": [
    "!ls -l"
   ]
  },
  {
   "cell_type": "code",
   "execution_count": 3,
   "metadata": {},
   "outputs": [],
   "source": [
    "nombre_archivo_lat_lon = \"World_Map.xls\""
   ]
  },
  {
   "cell_type": "code",
   "execution_count": 4,
   "metadata": {},
   "outputs": [],
   "source": [
    "nombre_archivo_imc = \"imc_mundiales.xlsx\""
   ]
  },
  {
   "cell_type": "code",
   "execution_count": 5,
   "metadata": {},
   "outputs": [],
   "source": [
    "path_to_zips = \"/home/dsc/Desktop/TFM/DATA/\""
   ]
  },
  {
   "cell_type": "code",
   "execution_count": 6,
   "metadata": {},
   "outputs": [],
   "source": [
    "dataset_ll = path_to_zips + nombre_archivo_lat_lon"
   ]
  },
  {
   "cell_type": "code",
   "execution_count": 7,
   "metadata": {},
   "outputs": [],
   "source": [
    "dfdataset_ll = pd.read_excel(dataset_ll)"
   ]
  },
  {
   "cell_type": "code",
   "execution_count": 8,
   "metadata": {},
   "outputs": [
    {
     "data": {
      "text/html": [
       "<div>\n",
       "<style scoped>\n",
       "    .dataframe tbody tr th:only-of-type {\n",
       "        vertical-align: middle;\n",
       "    }\n",
       "\n",
       "    .dataframe tbody tr th {\n",
       "        vertical-align: top;\n",
       "    }\n",
       "\n",
       "    .dataframe thead th {\n",
       "        text-align: right;\n",
       "    }\n",
       "</style>\n",
       "<table border=\"1\" class=\"dataframe\">\n",
       "  <thead>\n",
       "    <tr style=\"text-align: right;\">\n",
       "      <th></th>\n",
       "      <th>Country</th>\n",
       "      <th>Latitud (generado)</th>\n",
       "      <th>Longitud (generado)</th>\n",
       "    </tr>\n",
       "  </thead>\n",
       "  <tbody>\n",
       "    <tr>\n",
       "      <th>0</th>\n",
       "      <td>Afganistán</td>\n",
       "      <td>34.0230</td>\n",
       "      <td>65.5267</td>\n",
       "    </tr>\n",
       "    <tr>\n",
       "      <th>1</th>\n",
       "      <td>Albania</td>\n",
       "      <td>40.6540</td>\n",
       "      <td>20.0760</td>\n",
       "    </tr>\n",
       "    <tr>\n",
       "      <th>2</th>\n",
       "      <td>Argelia</td>\n",
       "      <td>28.6045</td>\n",
       "      <td>2.6400</td>\n",
       "    </tr>\n",
       "    <tr>\n",
       "      <th>3</th>\n",
       "      <td>Andorra</td>\n",
       "      <td>42.5410</td>\n",
       "      <td>1.5460</td>\n",
       "    </tr>\n",
       "    <tr>\n",
       "      <th>4</th>\n",
       "      <td>Angola</td>\n",
       "      <td>-12.8360</td>\n",
       "      <td>17.8080</td>\n",
       "    </tr>\n",
       "  </tbody>\n",
       "</table>\n",
       "</div>"
      ],
      "text/plain": [
       "      Country  Latitud (generado)  Longitud (generado)\n",
       "0  Afganistán             34.0230              65.5267\n",
       "1     Albania             40.6540              20.0760\n",
       "2     Argelia             28.6045               2.6400\n",
       "3     Andorra             42.5410               1.5460\n",
       "4      Angola            -12.8360              17.8080"
      ]
     },
     "execution_count": 8,
     "metadata": {},
     "output_type": "execute_result"
    }
   ],
   "source": [
    "dfdataset_ll.head()"
   ]
  },
  {
   "cell_type": "code",
   "execution_count": 9,
   "metadata": {},
   "outputs": [],
   "source": [
    "dataset_imc = path_to_zips + nombre_archivo_imc"
   ]
  },
  {
   "cell_type": "code",
   "execution_count": 10,
   "metadata": {},
   "outputs": [],
   "source": [
    "dfdataset_imc = pd.read_excel(dataset_imc)"
   ]
  },
  {
   "cell_type": "code",
   "execution_count": 11,
   "metadata": {},
   "outputs": [
    {
     "data": {
      "text/html": [
       "<div>\n",
       "<style scoped>\n",
       "    .dataframe tbody tr th:only-of-type {\n",
       "        vertical-align: middle;\n",
       "    }\n",
       "\n",
       "    .dataframe tbody tr th {\n",
       "        vertical-align: top;\n",
       "    }\n",
       "\n",
       "    .dataframe thead th {\n",
       "        text-align: right;\n",
       "    }\n",
       "</style>\n",
       "<table border=\"1\" class=\"dataframe\">\n",
       "  <thead>\n",
       "    <tr style=\"text-align: right;\">\n",
       "      <th></th>\n",
       "      <th>País</th>\n",
       "      <th>Media IMC​</th>\n",
       "      <th>IMC en hombres</th>\n",
       "      <th>IMC en mujeres</th>\n",
       "      <th>Hombres respecto a mujeres</th>\n",
       "    </tr>\n",
       "  </thead>\n",
       "  <tbody>\n",
       "    <tr>\n",
       "      <th>0</th>\n",
       "      <td>Afganistán</td>\n",
       "      <td>21.01</td>\n",
       "      <td>21.36</td>\n",
       "      <td>20.65</td>\n",
       "      <td>1.034</td>\n",
       "    </tr>\n",
       "    <tr>\n",
       "      <th>1</th>\n",
       "      <td>Albania</td>\n",
       "      <td>24.53</td>\n",
       "      <td>27.60</td>\n",
       "      <td>21.45</td>\n",
       "      <td>1.287</td>\n",
       "    </tr>\n",
       "    <tr>\n",
       "      <th>2</th>\n",
       "      <td>Alemania</td>\n",
       "      <td>25.32</td>\n",
       "      <td>27.17</td>\n",
       "      <td>23.46</td>\n",
       "      <td>1.158</td>\n",
       "    </tr>\n",
       "    <tr>\n",
       "      <th>3</th>\n",
       "      <td>Angola</td>\n",
       "      <td>22.73</td>\n",
       "      <td>23.24</td>\n",
       "      <td>22.22</td>\n",
       "      <td>1.046</td>\n",
       "    </tr>\n",
       "    <tr>\n",
       "      <th>4</th>\n",
       "      <td>Arabia Saudita</td>\n",
       "      <td>26.11</td>\n",
       "      <td>27.88</td>\n",
       "      <td>24.33</td>\n",
       "      <td>1.146</td>\n",
       "    </tr>\n",
       "  </tbody>\n",
       "</table>\n",
       "</div>"
      ],
      "text/plain": [
       "             País  Media IMC​  IMC en hombres  IMC en mujeres  \\\n",
       "0      Afganistán       21.01           21.36           20.65   \n",
       "1         Albania       24.53           27.60           21.45   \n",
       "2        Alemania       25.32           27.17           23.46   \n",
       "3          Angola       22.73           23.24           22.22   \n",
       "4  Arabia Saudita       26.11           27.88           24.33   \n",
       "\n",
       "   Hombres respecto a mujeres  \n",
       "0                       1.034  \n",
       "1                       1.287  \n",
       "2                       1.158  \n",
       "3                       1.046  \n",
       "4                       1.146  "
      ]
     },
     "execution_count": 11,
     "metadata": {},
     "output_type": "execute_result"
    }
   ],
   "source": [
    "dfdataset_imc.head()"
   ]
  },
  {
   "cell_type": "code",
   "execution_count": 12,
   "metadata": {},
   "outputs": [
    {
     "data": {
      "text/plain": [
       "(177, 5)"
      ]
     },
     "execution_count": 12,
     "metadata": {},
     "output_type": "execute_result"
    }
   ],
   "source": [
    "dfdataset_imc.shape"
   ]
  },
  {
   "cell_type": "code",
   "execution_count": 13,
   "metadata": {},
   "outputs": [
    {
     "data": {
      "text/plain": [
       "(190, 3)"
      ]
     },
     "execution_count": 13,
     "metadata": {},
     "output_type": "execute_result"
    }
   ],
   "source": [
    "dfdataset_ll.shape"
   ]
  },
  {
   "cell_type": "code",
   "execution_count": 14,
   "metadata": {},
   "outputs": [
    {
     "data": {
      "text/plain": [
       "['Country', 'Latitud (generado)', 'Longitud (generado)']"
      ]
     },
     "execution_count": 14,
     "metadata": {},
     "output_type": "execute_result"
    }
   ],
   "source": [
    "dfdataset_ll.columns.tolist()"
   ]
  },
  {
   "cell_type": "code",
   "execution_count": 15,
   "metadata": {},
   "outputs": [
    {
     "data": {
      "text/plain": [
       "['País',\n",
       " 'Media IMC\\u200b',\n",
       " 'IMC en hombres',\n",
       " 'IMC en mujeres',\n",
       " 'Hombres respecto a mujeres']"
      ]
     },
     "execution_count": 15,
     "metadata": {},
     "output_type": "execute_result"
    }
   ],
   "source": [
    "dfdataset_imc.columns.tolist()"
   ]
  },
  {
   "cell_type": "code",
   "execution_count": 16,
   "metadata": {},
   "outputs": [
    {
     "data": {
      "text/plain": [
       "País                          0\n",
       "Media IMC​                    0\n",
       "IMC en hombres                0\n",
       "IMC en mujeres                0\n",
       "Hombres respecto a mujeres    0\n",
       "dtype: int64"
      ]
     },
     "execution_count": 16,
     "metadata": {},
     "output_type": "execute_result"
    }
   ],
   "source": [
    "dfdataset_imc.isnull().sum()"
   ]
  },
  {
   "cell_type": "code",
   "execution_count": 17,
   "metadata": {},
   "outputs": [
    {
     "data": {
      "text/plain": [
       "Country                0\n",
       "Latitud (generado)     2\n",
       "Longitud (generado)    2\n",
       "dtype: int64"
      ]
     },
     "execution_count": 17,
     "metadata": {},
     "output_type": "execute_result"
    }
   ],
   "source": [
    "dfdataset_ll.isnull().sum()"
   ]
  },
  {
   "cell_type": "code",
   "execution_count": 18,
   "metadata": {},
   "outputs": [],
   "source": [
    "dfdataset_ll = dfdataset_ll.dropna()"
   ]
  },
  {
   "cell_type": "code",
   "execution_count": 19,
   "metadata": {},
   "outputs": [
    {
     "data": {
      "text/plain": [
       "Country                0\n",
       "Latitud (generado)     0\n",
       "Longitud (generado)    0\n",
       "dtype: int64"
      ]
     },
     "execution_count": 19,
     "metadata": {},
     "output_type": "execute_result"
    }
   ],
   "source": [
    "dfdataset_ll.isnull().sum()"
   ]
  },
  {
   "cell_type": "code",
   "execution_count": 20,
   "metadata": {
    "scrolled": true
   },
   "outputs": [
    {
     "data": {
      "text/plain": [
       "(188, 3)"
      ]
     },
     "execution_count": 20,
     "metadata": {},
     "output_type": "execute_result"
    }
   ],
   "source": [
    "dfdataset_ll.shape"
   ]
  },
  {
   "cell_type": "code",
   "execution_count": 21,
   "metadata": {
    "scrolled": true
   },
   "outputs": [
    {
     "data": {
      "text/plain": [
       "(177, 5)"
      ]
     },
     "execution_count": 21,
     "metadata": {},
     "output_type": "execute_result"
    }
   ],
   "source": [
    "dfdataset_imc.shape"
   ]
  },
  {
   "cell_type": "code",
   "execution_count": 2,
   "metadata": {},
   "outputs": [],
   "source": [
    "#vamos a unir los dos ficheros, hay algun nombre que puede no coincidir ya que son de fuentes diferentes"
   ]
  },
  {
   "cell_type": "code",
   "execution_count": 23,
   "metadata": {},
   "outputs": [],
   "source": [
    "final = dfdataset_imc.merge(dfdataset_ll, left_on =\"País\", right_on=\"Country\")"
   ]
  },
  {
   "cell_type": "code",
   "execution_count": 24,
   "metadata": {
    "scrolled": true
   },
   "outputs": [
    {
     "data": {
      "text/html": [
       "<div>\n",
       "<style scoped>\n",
       "    .dataframe tbody tr th:only-of-type {\n",
       "        vertical-align: middle;\n",
       "    }\n",
       "\n",
       "    .dataframe tbody tr th {\n",
       "        vertical-align: top;\n",
       "    }\n",
       "\n",
       "    .dataframe thead th {\n",
       "        text-align: right;\n",
       "    }\n",
       "</style>\n",
       "<table border=\"1\" class=\"dataframe\">\n",
       "  <thead>\n",
       "    <tr style=\"text-align: right;\">\n",
       "      <th></th>\n",
       "      <th>País</th>\n",
       "      <th>Media IMC​</th>\n",
       "      <th>IMC en hombres</th>\n",
       "      <th>IMC en mujeres</th>\n",
       "      <th>Hombres respecto a mujeres</th>\n",
       "      <th>Country</th>\n",
       "      <th>Latitud (generado)</th>\n",
       "      <th>Longitud (generado)</th>\n",
       "    </tr>\n",
       "  </thead>\n",
       "  <tbody>\n",
       "    <tr>\n",
       "      <th>0</th>\n",
       "      <td>Afganistán</td>\n",
       "      <td>21.01</td>\n",
       "      <td>21.36</td>\n",
       "      <td>20.65</td>\n",
       "      <td>1.034</td>\n",
       "      <td>Afganistán</td>\n",
       "      <td>34.0230</td>\n",
       "      <td>65.5267</td>\n",
       "    </tr>\n",
       "    <tr>\n",
       "      <th>1</th>\n",
       "      <td>Albania</td>\n",
       "      <td>24.53</td>\n",
       "      <td>27.60</td>\n",
       "      <td>21.45</td>\n",
       "      <td>1.287</td>\n",
       "      <td>Albania</td>\n",
       "      <td>40.6540</td>\n",
       "      <td>20.0760</td>\n",
       "    </tr>\n",
       "    <tr>\n",
       "      <th>2</th>\n",
       "      <td>Alemania</td>\n",
       "      <td>25.32</td>\n",
       "      <td>27.17</td>\n",
       "      <td>23.46</td>\n",
       "      <td>1.158</td>\n",
       "      <td>Alemania</td>\n",
       "      <td>51.3819</td>\n",
       "      <td>9.9877</td>\n",
       "    </tr>\n",
       "    <tr>\n",
       "      <th>3</th>\n",
       "      <td>Angola</td>\n",
       "      <td>22.73</td>\n",
       "      <td>23.24</td>\n",
       "      <td>22.22</td>\n",
       "      <td>1.046</td>\n",
       "      <td>Angola</td>\n",
       "      <td>-12.8360</td>\n",
       "      <td>17.8080</td>\n",
       "    </tr>\n",
       "    <tr>\n",
       "      <th>4</th>\n",
       "      <td>Arabia Saudita</td>\n",
       "      <td>26.11</td>\n",
       "      <td>27.88</td>\n",
       "      <td>24.33</td>\n",
       "      <td>1.146</td>\n",
       "      <td>Arabia Saudita</td>\n",
       "      <td>24.1910</td>\n",
       "      <td>44.3200</td>\n",
       "    </tr>\n",
       "  </tbody>\n",
       "</table>\n",
       "</div>"
      ],
      "text/plain": [
       "             País  Media IMC​  IMC en hombres  IMC en mujeres  \\\n",
       "0      Afganistán       21.01           21.36           20.65   \n",
       "1         Albania       24.53           27.60           21.45   \n",
       "2        Alemania       25.32           27.17           23.46   \n",
       "3          Angola       22.73           23.24           22.22   \n",
       "4  Arabia Saudita       26.11           27.88           24.33   \n",
       "\n",
       "   Hombres respecto a mujeres         Country  Latitud (generado)  \\\n",
       "0                       1.034      Afganistán             34.0230   \n",
       "1                       1.287         Albania             40.6540   \n",
       "2                       1.158        Alemania             51.3819   \n",
       "3                       1.046          Angola            -12.8360   \n",
       "4                       1.146  Arabia Saudita             24.1910   \n",
       "\n",
       "   Longitud (generado)  \n",
       "0              65.5267  \n",
       "1              20.0760  \n",
       "2               9.9877  \n",
       "3              17.8080  \n",
       "4              44.3200  "
      ]
     },
     "execution_count": 24,
     "metadata": {},
     "output_type": "execute_result"
    }
   ],
   "source": [
    "final.head()"
   ]
  },
  {
   "cell_type": "code",
   "execution_count": 25,
   "metadata": {
    "scrolled": true
   },
   "outputs": [
    {
     "data": {
      "text/plain": [
       "(175, 8)"
      ]
     },
     "execution_count": 25,
     "metadata": {},
     "output_type": "execute_result"
    }
   ],
   "source": [
    "final.shape"
   ]
  },
  {
   "cell_type": "code",
   "execution_count": 26,
   "metadata": {},
   "outputs": [
    {
     "data": {
      "text/plain": [
       "['País',\n",
       " 'Media IMC\\u200b',\n",
       " 'IMC en hombres',\n",
       " 'IMC en mujeres',\n",
       " 'Hombres respecto a mujeres',\n",
       " 'Country',\n",
       " 'Latitud (generado)',\n",
       " 'Longitud (generado)']"
      ]
     },
     "execution_count": 26,
     "metadata": {},
     "output_type": "execute_result"
    }
   ],
   "source": [
    "final.columns.tolist()"
   ]
  },
  {
   "cell_type": "code",
   "execution_count": 27,
   "metadata": {},
   "outputs": [],
   "source": [
    "final_renombrado = final.rename(columns={'Media IMC\\u200b': 'Media IMC', \n",
    "                                        'Latitud (generado)': 'Latitud',\"Longitud (generado)\" : \"Longitud\"})"
   ]
  },
  {
   "cell_type": "code",
   "execution_count": 28,
   "metadata": {
    "scrolled": true
   },
   "outputs": [
    {
     "data": {
      "text/html": [
       "<div>\n",
       "<style scoped>\n",
       "    .dataframe tbody tr th:only-of-type {\n",
       "        vertical-align: middle;\n",
       "    }\n",
       "\n",
       "    .dataframe tbody tr th {\n",
       "        vertical-align: top;\n",
       "    }\n",
       "\n",
       "    .dataframe thead th {\n",
       "        text-align: right;\n",
       "    }\n",
       "</style>\n",
       "<table border=\"1\" class=\"dataframe\">\n",
       "  <thead>\n",
       "    <tr style=\"text-align: right;\">\n",
       "      <th></th>\n",
       "      <th>País</th>\n",
       "      <th>Media IMC</th>\n",
       "      <th>IMC en hombres</th>\n",
       "      <th>IMC en mujeres</th>\n",
       "      <th>Hombres respecto a mujeres</th>\n",
       "      <th>Country</th>\n",
       "      <th>Latitud</th>\n",
       "      <th>Longitud</th>\n",
       "    </tr>\n",
       "  </thead>\n",
       "  <tbody>\n",
       "    <tr>\n",
       "      <th>0</th>\n",
       "      <td>Afganistán</td>\n",
       "      <td>21.01</td>\n",
       "      <td>21.36</td>\n",
       "      <td>20.65</td>\n",
       "      <td>1.034</td>\n",
       "      <td>Afganistán</td>\n",
       "      <td>34.0230</td>\n",
       "      <td>65.5267</td>\n",
       "    </tr>\n",
       "    <tr>\n",
       "      <th>1</th>\n",
       "      <td>Albania</td>\n",
       "      <td>24.53</td>\n",
       "      <td>27.60</td>\n",
       "      <td>21.45</td>\n",
       "      <td>1.287</td>\n",
       "      <td>Albania</td>\n",
       "      <td>40.6540</td>\n",
       "      <td>20.0760</td>\n",
       "    </tr>\n",
       "    <tr>\n",
       "      <th>2</th>\n",
       "      <td>Alemania</td>\n",
       "      <td>25.32</td>\n",
       "      <td>27.17</td>\n",
       "      <td>23.46</td>\n",
       "      <td>1.158</td>\n",
       "      <td>Alemania</td>\n",
       "      <td>51.3819</td>\n",
       "      <td>9.9877</td>\n",
       "    </tr>\n",
       "    <tr>\n",
       "      <th>3</th>\n",
       "      <td>Angola</td>\n",
       "      <td>22.73</td>\n",
       "      <td>23.24</td>\n",
       "      <td>22.22</td>\n",
       "      <td>1.046</td>\n",
       "      <td>Angola</td>\n",
       "      <td>-12.8360</td>\n",
       "      <td>17.8080</td>\n",
       "    </tr>\n",
       "    <tr>\n",
       "      <th>4</th>\n",
       "      <td>Arabia Saudita</td>\n",
       "      <td>26.11</td>\n",
       "      <td>27.88</td>\n",
       "      <td>24.33</td>\n",
       "      <td>1.146</td>\n",
       "      <td>Arabia Saudita</td>\n",
       "      <td>24.1910</td>\n",
       "      <td>44.3200</td>\n",
       "    </tr>\n",
       "  </tbody>\n",
       "</table>\n",
       "</div>"
      ],
      "text/plain": [
       "             País  Media IMC  IMC en hombres  IMC en mujeres  \\\n",
       "0      Afganistán      21.01           21.36           20.65   \n",
       "1         Albania      24.53           27.60           21.45   \n",
       "2        Alemania      25.32           27.17           23.46   \n",
       "3          Angola      22.73           23.24           22.22   \n",
       "4  Arabia Saudita      26.11           27.88           24.33   \n",
       "\n",
       "   Hombres respecto a mujeres         Country  Latitud  Longitud  \n",
       "0                       1.034      Afganistán  34.0230   65.5267  \n",
       "1                       1.287         Albania  40.6540   20.0760  \n",
       "2                       1.158        Alemania  51.3819    9.9877  \n",
       "3                       1.046          Angola -12.8360   17.8080  \n",
       "4                       1.146  Arabia Saudita  24.1910   44.3200  "
      ]
     },
     "execution_count": 28,
     "metadata": {},
     "output_type": "execute_result"
    }
   ],
   "source": [
    "final_renombrado.head()"
   ]
  },
  {
   "cell_type": "code",
   "execution_count": 29,
   "metadata": {},
   "outputs": [],
   "source": [
    "final_imc = final_renombrado.drop(\"Country\", 1)"
   ]
  },
  {
   "cell_type": "code",
   "execution_count": 30,
   "metadata": {},
   "outputs": [
    {
     "data": {
      "text/html": [
       "<div>\n",
       "<style scoped>\n",
       "    .dataframe tbody tr th:only-of-type {\n",
       "        vertical-align: middle;\n",
       "    }\n",
       "\n",
       "    .dataframe tbody tr th {\n",
       "        vertical-align: top;\n",
       "    }\n",
       "\n",
       "    .dataframe thead th {\n",
       "        text-align: right;\n",
       "    }\n",
       "</style>\n",
       "<table border=\"1\" class=\"dataframe\">\n",
       "  <thead>\n",
       "    <tr style=\"text-align: right;\">\n",
       "      <th></th>\n",
       "      <th>País</th>\n",
       "      <th>Media IMC</th>\n",
       "      <th>IMC en hombres</th>\n",
       "      <th>IMC en mujeres</th>\n",
       "      <th>Hombres respecto a mujeres</th>\n",
       "      <th>Latitud</th>\n",
       "      <th>Longitud</th>\n",
       "    </tr>\n",
       "  </thead>\n",
       "  <tbody>\n",
       "    <tr>\n",
       "      <th>0</th>\n",
       "      <td>Afganistán</td>\n",
       "      <td>21.01</td>\n",
       "      <td>21.36</td>\n",
       "      <td>20.65</td>\n",
       "      <td>1.034</td>\n",
       "      <td>34.0230</td>\n",
       "      <td>65.5267</td>\n",
       "    </tr>\n",
       "    <tr>\n",
       "      <th>1</th>\n",
       "      <td>Albania</td>\n",
       "      <td>24.53</td>\n",
       "      <td>27.60</td>\n",
       "      <td>21.45</td>\n",
       "      <td>1.287</td>\n",
       "      <td>40.6540</td>\n",
       "      <td>20.0760</td>\n",
       "    </tr>\n",
       "    <tr>\n",
       "      <th>2</th>\n",
       "      <td>Alemania</td>\n",
       "      <td>25.32</td>\n",
       "      <td>27.17</td>\n",
       "      <td>23.46</td>\n",
       "      <td>1.158</td>\n",
       "      <td>51.3819</td>\n",
       "      <td>9.9877</td>\n",
       "    </tr>\n",
       "    <tr>\n",
       "      <th>3</th>\n",
       "      <td>Angola</td>\n",
       "      <td>22.73</td>\n",
       "      <td>23.24</td>\n",
       "      <td>22.22</td>\n",
       "      <td>1.046</td>\n",
       "      <td>-12.8360</td>\n",
       "      <td>17.8080</td>\n",
       "    </tr>\n",
       "    <tr>\n",
       "      <th>4</th>\n",
       "      <td>Arabia Saudita</td>\n",
       "      <td>26.11</td>\n",
       "      <td>27.88</td>\n",
       "      <td>24.33</td>\n",
       "      <td>1.146</td>\n",
       "      <td>24.1910</td>\n",
       "      <td>44.3200</td>\n",
       "    </tr>\n",
       "  </tbody>\n",
       "</table>\n",
       "</div>"
      ],
      "text/plain": [
       "             País  Media IMC  IMC en hombres  IMC en mujeres  \\\n",
       "0      Afganistán      21.01           21.36           20.65   \n",
       "1         Albania      24.53           27.60           21.45   \n",
       "2        Alemania      25.32           27.17           23.46   \n",
       "3          Angola      22.73           23.24           22.22   \n",
       "4  Arabia Saudita      26.11           27.88           24.33   \n",
       "\n",
       "   Hombres respecto a mujeres  Latitud  Longitud  \n",
       "0                       1.034  34.0230   65.5267  \n",
       "1                       1.287  40.6540   20.0760  \n",
       "2                       1.158  51.3819    9.9877  \n",
       "3                       1.046 -12.8360   17.8080  \n",
       "4                       1.146  24.1910   44.3200  "
      ]
     },
     "execution_count": 30,
     "metadata": {},
     "output_type": "execute_result"
    }
   ],
   "source": [
    "final_imc.head()"
   ]
  },
  {
   "cell_type": "code",
   "execution_count": 31,
   "metadata": {},
   "outputs": [],
   "source": [
    "writer = ExcelWriter(path_to_zips + \"/imc_world_map.xlsx\")"
   ]
  },
  {
   "cell_type": "code",
   "execution_count": 32,
   "metadata": {},
   "outputs": [],
   "source": [
    "final_imc.to_excel(writer, 'Hoja de datos', index=False)"
   ]
  },
  {
   "cell_type": "code",
   "execution_count": 33,
   "metadata": {},
   "outputs": [],
   "source": [
    "writer.save()"
   ]
  },
  {
   "cell_type": "code",
   "execution_count": null,
   "metadata": {},
   "outputs": [],
   "source": []
  }
 ],
 "metadata": {
  "kernelspec": {
   "display_name": "Python 3",
   "language": "python",
   "name": "python3"
  },
  "language_info": {
   "codemirror_mode": {
    "name": "ipython",
    "version": 3
   },
   "file_extension": ".py",
   "mimetype": "text/x-python",
   "name": "python",
   "nbconvert_exporter": "python",
   "pygments_lexer": "ipython3",
   "version": "3.6.4"
  }
 },
 "nbformat": 4,
 "nbformat_minor": 2
}
