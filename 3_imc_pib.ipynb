{
 "cells": [
  {
   "cell_type": "markdown",
   "metadata": {},
   "source": [
    "## 3  Relación del pib de una población con su IMC.\n",
    "\n",
    "### Los datos han sido obtenidos de la página: IMC mundial https://www.wikipedia.org/ , Habitantes por país https://datacatalog.worldbank.org/dataset/population-ranking y pib mundial https://datacatalog.worldbank.org/dataset/gdp-ranking\n",
    "\n",
    "### Vamos a limpiar los 3 ficheros y unificarlos para estudiarlo con Tableau.\n",
    "### También hay un pequeño modelo si es lineal el pib con el imc.\n"
   ]
  },
  {
   "cell_type": "code",
   "execution_count": null,
   "metadata": {},
   "outputs": [],
   "source": [
    "import pandas as pd\n",
    "import numpy as np\n",
    "import matplotlib.pyplot as plt\n",
    "\n",
    "%matplotlib inline"
   ]
  },
  {
   "cell_type": "code",
   "execution_count": 2,
   "metadata": {},
   "outputs": [],
   "source": [
    "name_bmi = \"bmi_mundial_wikipedia.xlsx\""
   ]
  },
  {
   "cell_type": "code",
   "execution_count": 3,
   "metadata": {},
   "outputs": [],
   "source": [
    "name_pib = \"pib_mundial.xls\""
   ]
  },
  {
   "cell_type": "code",
   "execution_count": 4,
   "metadata": {},
   "outputs": [],
   "source": [
    "name_poblacion = \"poblacion_mundial.xls\""
   ]
  },
  {
   "cell_type": "code",
   "execution_count": 5,
   "metadata": {},
   "outputs": [],
   "source": [
    "path_to_zips = \"/home/dsc/Desktop/TFM/DATA/\""
   ]
  },
  {
   "cell_type": "code",
   "execution_count": null,
   "metadata": {},
   "outputs": [],
   "source": []
  },
  {
   "cell_type": "code",
   "execution_count": 6,
   "metadata": {},
   "outputs": [],
   "source": [
    "#limpieza del fichero de bmi_mundial_wikipedia."
   ]
  },
  {
   "cell_type": "code",
   "execution_count": 7,
   "metadata": {},
   "outputs": [],
   "source": [
    "dataset_bmi = path_to_zips + name_bmi"
   ]
  },
  {
   "cell_type": "code",
   "execution_count": 8,
   "metadata": {},
   "outputs": [],
   "source": [
    "df_bmi = pd.read_excel(dataset_bmi)"
   ]
  },
  {
   "cell_type": "code",
   "execution_count": 9,
   "metadata": {
    "scrolled": true
   },
   "outputs": [
    {
     "data": {
      "text/html": [
       "<div>\n",
       "<style scoped>\n",
       "    .dataframe tbody tr th:only-of-type {\n",
       "        vertical-align: middle;\n",
       "    }\n",
       "\n",
       "    .dataframe tbody tr th {\n",
       "        vertical-align: top;\n",
       "    }\n",
       "\n",
       "    .dataframe thead th {\n",
       "        text-align: right;\n",
       "    }\n",
       "</style>\n",
       "<table border=\"1\" class=\"dataframe\">\n",
       "  <thead>\n",
       "    <tr style=\"text-align: right;\">\n",
       "      <th></th>\n",
       "      <th>Country</th>\n",
       "      <th>Unnamed: 1</th>\n",
       "      <th>Overall</th>\n",
       "      <th>Overall mean</th>\n",
       "      <th>Female</th>\n",
       "      <th>Female mean</th>\n",
       "      <th>Male</th>\n",
       "      <th>Male mean</th>\n",
       "    </tr>\n",
       "  </thead>\n",
       "  <tbody>\n",
       "    <tr>\n",
       "      <th>0</th>\n",
       "      <td>NaN</td>\n",
       "      <td>NaN</td>\n",
       "      <td>rank</td>\n",
       "      <td>BMI (kg/m2)</td>\n",
       "      <td>rank</td>\n",
       "      <td>BMI (kg/m2)</td>\n",
       "      <td>rank</td>\n",
       "      <td>BMI (kg/m2)</td>\n",
       "    </tr>\n",
       "    <tr>\n",
       "      <th>1</th>\n",
       "      <td>Nauru</td>\n",
       "      <td>NaN</td>\n",
       "      <td>1</td>\n",
       "      <td>32.5</td>\n",
       "      <td>3</td>\n",
       "      <td>32.8</td>\n",
       "      <td>1</td>\n",
       "      <td>32.1</td>\n",
       "    </tr>\n",
       "    <tr>\n",
       "      <th>2</th>\n",
       "      <td>Tonga</td>\n",
       "      <td>NaN</td>\n",
       "      <td>2</td>\n",
       "      <td>31.9</td>\n",
       "      <td>1</td>\n",
       "      <td>33.5</td>\n",
       "      <td>2</td>\n",
       "      <td>30.4</td>\n",
       "    </tr>\n",
       "    <tr>\n",
       "      <th>3</th>\n",
       "      <td>Samoa</td>\n",
       "      <td>NaN</td>\n",
       "      <td>3</td>\n",
       "      <td>31.7</td>\n",
       "      <td>1</td>\n",
       "      <td>33.5</td>\n",
       "      <td>3</td>\n",
       "      <td>29.9</td>\n",
       "    </tr>\n",
       "    <tr>\n",
       "      <th>4</th>\n",
       "      <td>Kuwait</td>\n",
       "      <td>NaN</td>\n",
       "      <td>4</td>\n",
       "      <td>30</td>\n",
       "      <td>6</td>\n",
       "      <td>30.8</td>\n",
       "      <td>4</td>\n",
       "      <td>29.5</td>\n",
       "    </tr>\n",
       "  </tbody>\n",
       "</table>\n",
       "</div>"
      ],
      "text/plain": [
       "  Country  Unnamed: 1 Overall Overall mean Female  Female mean  Male  \\\n",
       "0     NaN         NaN    rank  BMI (kg/m2)   rank  BMI (kg/m2)  rank   \n",
       "1   Nauru         NaN       1         32.5      3         32.8     1   \n",
       "2   Tonga         NaN       2         31.9      1         33.5     2   \n",
       "3   Samoa         NaN       3         31.7      1         33.5     3   \n",
       "4  Kuwait         NaN       4           30      6         30.8     4   \n",
       "\n",
       "     Male mean  \n",
       "0  BMI (kg/m2)  \n",
       "1         32.1  \n",
       "2         30.4  \n",
       "3         29.9  \n",
       "4         29.5  "
      ]
     },
     "execution_count": 9,
     "metadata": {},
     "output_type": "execute_result"
    }
   ],
   "source": [
    "df_bmi.head()"
   ]
  },
  {
   "cell_type": "code",
   "execution_count": 10,
   "metadata": {
    "scrolled": true
   },
   "outputs": [
    {
     "data": {
      "text/html": [
       "<div>\n",
       "<style scoped>\n",
       "    .dataframe tbody tr th:only-of-type {\n",
       "        vertical-align: middle;\n",
       "    }\n",
       "\n",
       "    .dataframe tbody tr th {\n",
       "        vertical-align: top;\n",
       "    }\n",
       "\n",
       "    .dataframe thead th {\n",
       "        text-align: right;\n",
       "    }\n",
       "</style>\n",
       "<table border=\"1\" class=\"dataframe\">\n",
       "  <thead>\n",
       "    <tr style=\"text-align: right;\">\n",
       "      <th></th>\n",
       "      <th>Country</th>\n",
       "      <th>Unnamed: 1</th>\n",
       "      <th>Overall</th>\n",
       "      <th>Overall mean</th>\n",
       "      <th>Female</th>\n",
       "      <th>Female mean</th>\n",
       "      <th>Male</th>\n",
       "      <th>Male mean</th>\n",
       "    </tr>\n",
       "  </thead>\n",
       "  <tbody>\n",
       "    <tr>\n",
       "      <th>192</th>\n",
       "      <td>Liechtenstein</td>\n",
       "      <td>NaN</td>\n",
       "      <td>-</td>\n",
       "      <td>-</td>\n",
       "      <td>-</td>\n",
       "      <td>-</td>\n",
       "      <td>-</td>\n",
       "      <td>-</td>\n",
       "    </tr>\n",
       "    <tr>\n",
       "      <th>193</th>\n",
       "      <td>Monaco</td>\n",
       "      <td>NaN</td>\n",
       "      <td>-</td>\n",
       "      <td>-</td>\n",
       "      <td>-</td>\n",
       "      <td>-</td>\n",
       "      <td>-</td>\n",
       "      <td>-</td>\n",
       "    </tr>\n",
       "    <tr>\n",
       "      <th>194</th>\n",
       "      <td>San Marino</td>\n",
       "      <td>NaN</td>\n",
       "      <td>-</td>\n",
       "      <td>-</td>\n",
       "      <td>-</td>\n",
       "      <td>-</td>\n",
       "      <td>-</td>\n",
       "      <td>-</td>\n",
       "    </tr>\n",
       "    <tr>\n",
       "      <th>195</th>\n",
       "      <td>Taiwan</td>\n",
       "      <td>NaN</td>\n",
       "      <td>-</td>\n",
       "      <td>-</td>\n",
       "      <td>-</td>\n",
       "      <td>-</td>\n",
       "      <td>-</td>\n",
       "      <td>-</td>\n",
       "    </tr>\n",
       "    <tr>\n",
       "      <th>196</th>\n",
       "      <td>Vatican City</td>\n",
       "      <td>NaN</td>\n",
       "      <td>-</td>\n",
       "      <td>-</td>\n",
       "      <td>-</td>\n",
       "      <td>-</td>\n",
       "      <td>-</td>\n",
       "      <td>-</td>\n",
       "    </tr>\n",
       "  </tbody>\n",
       "</table>\n",
       "</div>"
      ],
      "text/plain": [
       "           Country  Unnamed: 1 Overall Overall mean Female Female mean Male  \\\n",
       "192  Liechtenstein         NaN       -            -      -           -    -   \n",
       "193         Monaco         NaN       -            -      -           -    -   \n",
       "194     San Marino         NaN       -            -      -           -    -   \n",
       "195         Taiwan         NaN       -            -      -           -    -   \n",
       "196   Vatican City         NaN       -            -      -           -    -   \n",
       "\n",
       "    Male mean  \n",
       "192         -  \n",
       "193         -  \n",
       "194         -  \n",
       "195         -  \n",
       "196         -  "
      ]
     },
     "execution_count": 10,
     "metadata": {},
     "output_type": "execute_result"
    }
   ],
   "source": [
    "df_bmi.tail()"
   ]
  },
  {
   "cell_type": "code",
   "execution_count": 11,
   "metadata": {},
   "outputs": [
    {
     "data": {
      "text/plain": [
       "(197, 8)"
      ]
     },
     "execution_count": 11,
     "metadata": {},
     "output_type": "execute_result"
    }
   ],
   "source": [
    "df_bmi.shape"
   ]
  },
  {
   "cell_type": "code",
   "execution_count": 12,
   "metadata": {
    "scrolled": true
   },
   "outputs": [
    {
     "data": {
      "text/plain": [
       "['Country',\n",
       " 'Unnamed: 1',\n",
       " 'Overall',\n",
       " 'Overall mean',\n",
       " 'Female',\n",
       " 'Female mean',\n",
       " 'Male',\n",
       " 'Male mean']"
      ]
     },
     "execution_count": 12,
     "metadata": {},
     "output_type": "execute_result"
    }
   ],
   "source": [
    "df_bmi.columns.tolist()"
   ]
  },
  {
   "cell_type": "code",
   "execution_count": 13,
   "metadata": {},
   "outputs": [],
   "source": [
    "bmi = df_bmi.filter(items=[\"Country\", \"Male mean\", \"Female mean\"])"
   ]
  },
  {
   "cell_type": "code",
   "execution_count": 14,
   "metadata": {},
   "outputs": [
    {
     "data": {
      "text/html": [
       "<div>\n",
       "<style scoped>\n",
       "    .dataframe tbody tr th:only-of-type {\n",
       "        vertical-align: middle;\n",
       "    }\n",
       "\n",
       "    .dataframe tbody tr th {\n",
       "        vertical-align: top;\n",
       "    }\n",
       "\n",
       "    .dataframe thead th {\n",
       "        text-align: right;\n",
       "    }\n",
       "</style>\n",
       "<table border=\"1\" class=\"dataframe\">\n",
       "  <thead>\n",
       "    <tr style=\"text-align: right;\">\n",
       "      <th></th>\n",
       "      <th>Country</th>\n",
       "      <th>Male mean</th>\n",
       "      <th>Female mean</th>\n",
       "    </tr>\n",
       "  </thead>\n",
       "  <tbody>\n",
       "    <tr>\n",
       "      <th>0</th>\n",
       "      <td>NaN</td>\n",
       "      <td>BMI (kg/m2)</td>\n",
       "      <td>BMI (kg/m2)</td>\n",
       "    </tr>\n",
       "    <tr>\n",
       "      <th>1</th>\n",
       "      <td>Nauru</td>\n",
       "      <td>32.1</td>\n",
       "      <td>32.8</td>\n",
       "    </tr>\n",
       "    <tr>\n",
       "      <th>2</th>\n",
       "      <td>Tonga</td>\n",
       "      <td>30.4</td>\n",
       "      <td>33.5</td>\n",
       "    </tr>\n",
       "    <tr>\n",
       "      <th>3</th>\n",
       "      <td>Samoa</td>\n",
       "      <td>29.9</td>\n",
       "      <td>33.5</td>\n",
       "    </tr>\n",
       "    <tr>\n",
       "      <th>4</th>\n",
       "      <td>Kuwait</td>\n",
       "      <td>29.5</td>\n",
       "      <td>30.8</td>\n",
       "    </tr>\n",
       "  </tbody>\n",
       "</table>\n",
       "</div>"
      ],
      "text/plain": [
       "  Country    Male mean  Female mean\n",
       "0     NaN  BMI (kg/m2)  BMI (kg/m2)\n",
       "1   Nauru         32.1         32.8\n",
       "2   Tonga         30.4         33.5\n",
       "3   Samoa         29.9         33.5\n",
       "4  Kuwait         29.5         30.8"
      ]
     },
     "execution_count": 14,
     "metadata": {},
     "output_type": "execute_result"
    }
   ],
   "source": [
    "bmi.head()"
   ]
  },
  {
   "cell_type": "code",
   "execution_count": 15,
   "metadata": {},
   "outputs": [],
   "source": [
    "bmi_mundial = bmi.drop(bmi.index[0])"
   ]
  },
  {
   "cell_type": "code",
   "execution_count": 16,
   "metadata": {},
   "outputs": [
    {
     "data": {
      "text/html": [
       "<div>\n",
       "<style scoped>\n",
       "    .dataframe tbody tr th:only-of-type {\n",
       "        vertical-align: middle;\n",
       "    }\n",
       "\n",
       "    .dataframe tbody tr th {\n",
       "        vertical-align: top;\n",
       "    }\n",
       "\n",
       "    .dataframe thead th {\n",
       "        text-align: right;\n",
       "    }\n",
       "</style>\n",
       "<table border=\"1\" class=\"dataframe\">\n",
       "  <thead>\n",
       "    <tr style=\"text-align: right;\">\n",
       "      <th></th>\n",
       "      <th>Country</th>\n",
       "      <th>Male mean</th>\n",
       "      <th>Female mean</th>\n",
       "    </tr>\n",
       "  </thead>\n",
       "  <tbody>\n",
       "    <tr>\n",
       "      <th>1</th>\n",
       "      <td>Nauru</td>\n",
       "      <td>32.1</td>\n",
       "      <td>32.8</td>\n",
       "    </tr>\n",
       "    <tr>\n",
       "      <th>2</th>\n",
       "      <td>Tonga</td>\n",
       "      <td>30.4</td>\n",
       "      <td>33.5</td>\n",
       "    </tr>\n",
       "    <tr>\n",
       "      <th>3</th>\n",
       "      <td>Samoa</td>\n",
       "      <td>29.9</td>\n",
       "      <td>33.5</td>\n",
       "    </tr>\n",
       "    <tr>\n",
       "      <th>4</th>\n",
       "      <td>Kuwait</td>\n",
       "      <td>29.5</td>\n",
       "      <td>30.8</td>\n",
       "    </tr>\n",
       "    <tr>\n",
       "      <th>5</th>\n",
       "      <td>Saint Kitts and Nevis</td>\n",
       "      <td>28.4</td>\n",
       "      <td>30.9</td>\n",
       "    </tr>\n",
       "  </tbody>\n",
       "</table>\n",
       "</div>"
      ],
      "text/plain": [
       "                 Country Male mean Female mean\n",
       "1                  Nauru      32.1        32.8\n",
       "2                  Tonga      30.4        33.5\n",
       "3                  Samoa      29.9        33.5\n",
       "4                 Kuwait      29.5        30.8\n",
       "5  Saint Kitts and Nevis      28.4        30.9"
      ]
     },
     "execution_count": 16,
     "metadata": {},
     "output_type": "execute_result"
    }
   ],
   "source": [
    "bmi_mundial.head()"
   ]
  },
  {
   "cell_type": "code",
   "execution_count": 17,
   "metadata": {},
   "outputs": [
    {
     "data": {
      "text/plain": [
       "(196, 3)"
      ]
     },
     "execution_count": 17,
     "metadata": {},
     "output_type": "execute_result"
    }
   ],
   "source": [
    "bmi_mundial.shape"
   ]
  },
  {
   "cell_type": "code",
   "execution_count": null,
   "metadata": {},
   "outputs": [],
   "source": []
  },
  {
   "cell_type": "code",
   "execution_count": 18,
   "metadata": {},
   "outputs": [],
   "source": [
    "#limpieza del fichero de pib_mundial."
   ]
  },
  {
   "cell_type": "code",
   "execution_count": 19,
   "metadata": {},
   "outputs": [],
   "source": [
    "dataset_pib = path_to_zips + name_pib"
   ]
  },
  {
   "cell_type": "code",
   "execution_count": 20,
   "metadata": {},
   "outputs": [],
   "source": [
    "prueba_df_pib = pd.read_excel(dataset_pib, skiprows =1)"
   ]
  },
  {
   "cell_type": "code",
   "execution_count": 21,
   "metadata": {
    "scrolled": false
   },
   "outputs": [
    {
     "data": {
      "text/html": [
       "<div>\n",
       "<style scoped>\n",
       "    .dataframe tbody tr th:only-of-type {\n",
       "        vertical-align: middle;\n",
       "    }\n",
       "\n",
       "    .dataframe tbody tr th {\n",
       "        vertical-align: top;\n",
       "    }\n",
       "\n",
       "    .dataframe thead th {\n",
       "        text-align: right;\n",
       "    }\n",
       "</style>\n",
       "<table border=\"1\" class=\"dataframe\">\n",
       "  <thead>\n",
       "    <tr style=\"text-align: right;\">\n",
       "      <th></th>\n",
       "      <th>Unnamed: 0</th>\n",
       "      <th>Unnamed: 1</th>\n",
       "      <th>Unnamed: 2</th>\n",
       "      <th>Unnamed: 3</th>\n",
       "      <th>Unnamed: 4</th>\n",
       "      <th>Unnamed: 5</th>\n",
       "    </tr>\n",
       "  </thead>\n",
       "  <tbody>\n",
       "    <tr>\n",
       "      <th>0</th>\n",
       "      <td>NaN</td>\n",
       "      <td>NaN</td>\n",
       "      <td>NaN</td>\n",
       "      <td>NaN</td>\n",
       "      <td>(millions of</td>\n",
       "      <td>NaN</td>\n",
       "    </tr>\n",
       "    <tr>\n",
       "      <th>1</th>\n",
       "      <td>NaN</td>\n",
       "      <td>Ranking</td>\n",
       "      <td>NaN</td>\n",
       "      <td>Economy</td>\n",
       "      <td>US dollars)</td>\n",
       "      <td>NaN</td>\n",
       "    </tr>\n",
       "    <tr>\n",
       "      <th>2</th>\n",
       "      <td>NaN</td>\n",
       "      <td>NaN</td>\n",
       "      <td>NaN</td>\n",
       "      <td>NaN</td>\n",
       "      <td>NaN</td>\n",
       "      <td>NaN</td>\n",
       "    </tr>\n",
       "    <tr>\n",
       "      <th>3</th>\n",
       "      <td>USA</td>\n",
       "      <td>1</td>\n",
       "      <td>NaN</td>\n",
       "      <td>United States</td>\n",
       "      <td>19390604</td>\n",
       "      <td>NaN</td>\n",
       "    </tr>\n",
       "    <tr>\n",
       "      <th>4</th>\n",
       "      <td>CHN</td>\n",
       "      <td>2</td>\n",
       "      <td>NaN</td>\n",
       "      <td>China</td>\n",
       "      <td>1.22377e+07</td>\n",
       "      <td>NaN</td>\n",
       "    </tr>\n",
       "    <tr>\n",
       "      <th>5</th>\n",
       "      <td>JPN</td>\n",
       "      <td>3</td>\n",
       "      <td>NaN</td>\n",
       "      <td>Japan</td>\n",
       "      <td>4.87214e+06</td>\n",
       "      <td>NaN</td>\n",
       "    </tr>\n",
       "    <tr>\n",
       "      <th>6</th>\n",
       "      <td>DEU</td>\n",
       "      <td>4</td>\n",
       "      <td>NaN</td>\n",
       "      <td>Germany</td>\n",
       "      <td>3.67744e+06</td>\n",
       "      <td>NaN</td>\n",
       "    </tr>\n",
       "    <tr>\n",
       "      <th>7</th>\n",
       "      <td>GBR</td>\n",
       "      <td>5</td>\n",
       "      <td>NaN</td>\n",
       "      <td>United Kingdom</td>\n",
       "      <td>2.62243e+06</td>\n",
       "      <td>NaN</td>\n",
       "    </tr>\n",
       "    <tr>\n",
       "      <th>8</th>\n",
       "      <td>IND</td>\n",
       "      <td>6</td>\n",
       "      <td>NaN</td>\n",
       "      <td>India</td>\n",
       "      <td>2.59749e+06</td>\n",
       "      <td>NaN</td>\n",
       "    </tr>\n",
       "    <tr>\n",
       "      <th>9</th>\n",
       "      <td>FRA</td>\n",
       "      <td>7</td>\n",
       "      <td>NaN</td>\n",
       "      <td>France</td>\n",
       "      <td>2.5825e+06</td>\n",
       "      <td>NaN</td>\n",
       "    </tr>\n",
       "  </tbody>\n",
       "</table>\n",
       "</div>"
      ],
      "text/plain": [
       "  Unnamed: 0 Unnamed: 1  Unnamed: 2      Unnamed: 3    Unnamed: 4 Unnamed: 5\n",
       "0        NaN        NaN         NaN             NaN  (millions of        NaN\n",
       "1        NaN    Ranking         NaN         Economy   US dollars)        NaN\n",
       "2        NaN        NaN         NaN             NaN           NaN        NaN\n",
       "3        USA          1         NaN   United States      19390604        NaN\n",
       "4        CHN          2         NaN           China   1.22377e+07        NaN\n",
       "5        JPN          3         NaN           Japan   4.87214e+06        NaN\n",
       "6        DEU          4         NaN         Germany   3.67744e+06        NaN\n",
       "7        GBR          5         NaN  United Kingdom   2.62243e+06        NaN\n",
       "8        IND          6         NaN           India   2.59749e+06        NaN\n",
       "9        FRA          7         NaN          France    2.5825e+06        NaN"
      ]
     },
     "execution_count": 21,
     "metadata": {},
     "output_type": "execute_result"
    }
   ],
   "source": [
    "prueba_df_pib.head(10)"
   ]
  },
  {
   "cell_type": "code",
   "execution_count": 22,
   "metadata": {
    "scrolled": true
   },
   "outputs": [
    {
     "data": {
      "text/html": [
       "<div>\n",
       "<style scoped>\n",
       "    .dataframe tbody tr th:only-of-type {\n",
       "        vertical-align: middle;\n",
       "    }\n",
       "\n",
       "    .dataframe tbody tr th {\n",
       "        vertical-align: top;\n",
       "    }\n",
       "\n",
       "    .dataframe thead th {\n",
       "        text-align: right;\n",
       "    }\n",
       "</style>\n",
       "<table border=\"1\" class=\"dataframe\">\n",
       "  <thead>\n",
       "    <tr style=\"text-align: right;\">\n",
       "      <th></th>\n",
       "      <th>Unnamed: 0</th>\n",
       "      <th>Unnamed: 1</th>\n",
       "      <th>Unnamed: 2</th>\n",
       "      <th>Unnamed: 3</th>\n",
       "      <th>Unnamed: 4</th>\n",
       "      <th>Unnamed: 5</th>\n",
       "    </tr>\n",
       "  </thead>\n",
       "  <tbody>\n",
       "    <tr>\n",
       "      <th>202</th>\n",
       "      <td>TUV</td>\n",
       "      <td>200</td>\n",
       "      <td>NaN</td>\n",
       "      <td>Tuvalu</td>\n",
       "      <td>39.7313</td>\n",
       "      <td>NaN</td>\n",
       "    </tr>\n",
       "    <tr>\n",
       "      <th>203</th>\n",
       "      <td>NaN</td>\n",
       "      <td>NaN</td>\n",
       "      <td>NaN</td>\n",
       "      <td>NaN</td>\n",
       "      <td>NaN</td>\n",
       "      <td>NaN</td>\n",
       "    </tr>\n",
       "    <tr>\n",
       "      <th>204</th>\n",
       "      <td>ABW</td>\n",
       "      <td>NaN</td>\n",
       "      <td>NaN</td>\n",
       "      <td>Aruba</td>\n",
       "      <td>..</td>\n",
       "      <td>NaN</td>\n",
       "    </tr>\n",
       "    <tr>\n",
       "      <th>205</th>\n",
       "      <td>BMU</td>\n",
       "      <td>NaN</td>\n",
       "      <td>NaN</td>\n",
       "      <td>Bermuda</td>\n",
       "      <td>..</td>\n",
       "      <td>NaN</td>\n",
       "    </tr>\n",
       "    <tr>\n",
       "      <th>206</th>\n",
       "      <td>VGB</td>\n",
       "      <td>NaN</td>\n",
       "      <td>NaN</td>\n",
       "      <td>British Virgin Islands</td>\n",
       "      <td>..</td>\n",
       "      <td>NaN</td>\n",
       "    </tr>\n",
       "    <tr>\n",
       "      <th>207</th>\n",
       "      <td>CYM</td>\n",
       "      <td>NaN</td>\n",
       "      <td>NaN</td>\n",
       "      <td>Cayman Islands</td>\n",
       "      <td>..</td>\n",
       "      <td>NaN</td>\n",
       "    </tr>\n",
       "    <tr>\n",
       "      <th>208</th>\n",
       "      <td>CHI</td>\n",
       "      <td>NaN</td>\n",
       "      <td>NaN</td>\n",
       "      <td>Channel Islands</td>\n",
       "      <td>..</td>\n",
       "      <td>NaN</td>\n",
       "    </tr>\n",
       "    <tr>\n",
       "      <th>209</th>\n",
       "      <td>CUW</td>\n",
       "      <td>NaN</td>\n",
       "      <td>NaN</td>\n",
       "      <td>Curaçao</td>\n",
       "      <td>..</td>\n",
       "      <td>NaN</td>\n",
       "    </tr>\n",
       "    <tr>\n",
       "      <th>210</th>\n",
       "      <td>ERI</td>\n",
       "      <td>NaN</td>\n",
       "      <td>NaN</td>\n",
       "      <td>Eritrea</td>\n",
       "      <td>..</td>\n",
       "      <td>NaN</td>\n",
       "    </tr>\n",
       "    <tr>\n",
       "      <th>211</th>\n",
       "      <td>PYF</td>\n",
       "      <td>NaN</td>\n",
       "      <td>NaN</td>\n",
       "      <td>French Polynesia</td>\n",
       "      <td>..</td>\n",
       "      <td>NaN</td>\n",
       "    </tr>\n",
       "    <tr>\n",
       "      <th>212</th>\n",
       "      <td>GIB</td>\n",
       "      <td>NaN</td>\n",
       "      <td>NaN</td>\n",
       "      <td>Gibraltar</td>\n",
       "      <td>..</td>\n",
       "      <td>NaN</td>\n",
       "    </tr>\n",
       "    <tr>\n",
       "      <th>213</th>\n",
       "      <td>PRK</td>\n",
       "      <td>NaN</td>\n",
       "      <td>NaN</td>\n",
       "      <td>Korea, Dem. People's Rep.</td>\n",
       "      <td>..</td>\n",
       "      <td>NaN</td>\n",
       "    </tr>\n",
       "    <tr>\n",
       "      <th>214</th>\n",
       "      <td>MCO</td>\n",
       "      <td>NaN</td>\n",
       "      <td>NaN</td>\n",
       "      <td>Monaco</td>\n",
       "      <td>..</td>\n",
       "      <td>NaN</td>\n",
       "    </tr>\n",
       "    <tr>\n",
       "      <th>215</th>\n",
       "      <td>NCL</td>\n",
       "      <td>NaN</td>\n",
       "      <td>NaN</td>\n",
       "      <td>New Caledonia</td>\n",
       "      <td>..</td>\n",
       "      <td>NaN</td>\n",
       "    </tr>\n",
       "    <tr>\n",
       "      <th>216</th>\n",
       "      <td>SXM</td>\n",
       "      <td>NaN</td>\n",
       "      <td>NaN</td>\n",
       "      <td>Sint Maarten (Dutch part)</td>\n",
       "      <td>..</td>\n",
       "      <td>NaN</td>\n",
       "    </tr>\n",
       "    <tr>\n",
       "      <th>217</th>\n",
       "      <td>MAF</td>\n",
       "      <td>NaN</td>\n",
       "      <td>NaN</td>\n",
       "      <td>St. Martin (French part)</td>\n",
       "      <td>..</td>\n",
       "      <td>NaN</td>\n",
       "    </tr>\n",
       "    <tr>\n",
       "      <th>218</th>\n",
       "      <td>SYR</td>\n",
       "      <td>NaN</td>\n",
       "      <td>NaN</td>\n",
       "      <td>Syrian Arab Republic</td>\n",
       "      <td>..</td>\n",
       "      <td>NaN</td>\n",
       "    </tr>\n",
       "    <tr>\n",
       "      <th>219</th>\n",
       "      <td>TCA</td>\n",
       "      <td>NaN</td>\n",
       "      <td>NaN</td>\n",
       "      <td>Turks and Caicos Islands</td>\n",
       "      <td>..</td>\n",
       "      <td>NaN</td>\n",
       "    </tr>\n",
       "    <tr>\n",
       "      <th>220</th>\n",
       "      <td>VEN</td>\n",
       "      <td>NaN</td>\n",
       "      <td>NaN</td>\n",
       "      <td>Venezuela, RB</td>\n",
       "      <td>..</td>\n",
       "      <td>NaN</td>\n",
       "    </tr>\n",
       "    <tr>\n",
       "      <th>221</th>\n",
       "      <td>NaN</td>\n",
       "      <td>NaN</td>\n",
       "      <td>NaN</td>\n",
       "      <td>NaN</td>\n",
       "      <td>NaN</td>\n",
       "      <td>NaN</td>\n",
       "    </tr>\n",
       "    <tr>\n",
       "      <th>222</th>\n",
       "      <td>WLD</td>\n",
       "      <td>NaN</td>\n",
       "      <td>NaN</td>\n",
       "      <td>World</td>\n",
       "      <td>8.06838e+07</td>\n",
       "      <td>NaN</td>\n",
       "    </tr>\n",
       "    <tr>\n",
       "      <th>223</th>\n",
       "      <td>NaN</td>\n",
       "      <td>NaN</td>\n",
       "      <td>NaN</td>\n",
       "      <td>NaN</td>\n",
       "      <td>NaN</td>\n",
       "      <td>NaN</td>\n",
       "    </tr>\n",
       "    <tr>\n",
       "      <th>224</th>\n",
       "      <td>EAS</td>\n",
       "      <td>NaN</td>\n",
       "      <td>NaN</td>\n",
       "      <td>East Asia &amp; Pacific</td>\n",
       "      <td>2.39993e+07</td>\n",
       "      <td>NaN</td>\n",
       "    </tr>\n",
       "    <tr>\n",
       "      <th>225</th>\n",
       "      <td>ECS</td>\n",
       "      <td>NaN</td>\n",
       "      <td>NaN</td>\n",
       "      <td>Europe &amp; Central Asia</td>\n",
       "      <td>2.14385e+07</td>\n",
       "      <td>NaN</td>\n",
       "    </tr>\n",
       "    <tr>\n",
       "      <th>226</th>\n",
       "      <td>LCN</td>\n",
       "      <td>NaN</td>\n",
       "      <td>NaN</td>\n",
       "      <td>Latin America &amp; Caribbean</td>\n",
       "      <td>5.95467e+06</td>\n",
       "      <td>NaN</td>\n",
       "    </tr>\n",
       "    <tr>\n",
       "      <th>227</th>\n",
       "      <td>MEA</td>\n",
       "      <td>NaN</td>\n",
       "      <td>NaN</td>\n",
       "      <td>Middle East &amp; North Africa</td>\n",
       "      <td>3.26575e+06</td>\n",
       "      <td>NaN</td>\n",
       "    </tr>\n",
       "    <tr>\n",
       "      <th>228</th>\n",
       "      <td>NAC</td>\n",
       "      <td>NaN</td>\n",
       "      <td>NaN</td>\n",
       "      <td>North America</td>\n",
       "      <td>2.105e+07</td>\n",
       "      <td>NaN</td>\n",
       "    </tr>\n",
       "    <tr>\n",
       "      <th>229</th>\n",
       "      <td>SAS</td>\n",
       "      <td>NaN</td>\n",
       "      <td>NaN</td>\n",
       "      <td>South Asia</td>\n",
       "      <td>3.29174e+06</td>\n",
       "      <td>NaN</td>\n",
       "    </tr>\n",
       "    <tr>\n",
       "      <th>230</th>\n",
       "      <td>SSF</td>\n",
       "      <td>NaN</td>\n",
       "      <td>NaN</td>\n",
       "      <td>Sub-Saharan Africa</td>\n",
       "      <td>1.64871e+06</td>\n",
       "      <td>NaN</td>\n",
       "    </tr>\n",
       "    <tr>\n",
       "      <th>231</th>\n",
       "      <td>LIC</td>\n",
       "      <td>NaN</td>\n",
       "      <td>NaN</td>\n",
       "      <td>Low income</td>\n",
       "      <td>549654</td>\n",
       "      <td>NaN</td>\n",
       "    </tr>\n",
       "    <tr>\n",
       "      <th>232</th>\n",
       "      <td>LMC</td>\n",
       "      <td>NaN</td>\n",
       "      <td>NaN</td>\n",
       "      <td>Lower middle income</td>\n",
       "      <td>6.50416e+06</td>\n",
       "      <td>NaN</td>\n",
       "    </tr>\n",
       "    <tr>\n",
       "      <th>233</th>\n",
       "      <td>UMC</td>\n",
       "      <td>NaN</td>\n",
       "      <td>NaN</td>\n",
       "      <td>Upper middle income</td>\n",
       "      <td>2.21684e+07</td>\n",
       "      <td>NaN</td>\n",
       "    </tr>\n",
       "    <tr>\n",
       "      <th>234</th>\n",
       "      <td>HIC</td>\n",
       "      <td>NaN</td>\n",
       "      <td>NaN</td>\n",
       "      <td>High income</td>\n",
       "      <td>5.14754e+07</td>\n",
       "      <td>NaN</td>\n",
       "    </tr>\n",
       "    <tr>\n",
       "      <th>235</th>\n",
       "      <td>NaN</td>\n",
       "      <td>NaN</td>\n",
       "      <td>NaN</td>\n",
       "      <td>NaN</td>\n",
       "      <td>NaN</td>\n",
       "      <td>NaN</td>\n",
       "    </tr>\n",
       "    <tr>\n",
       "      <th>236</th>\n",
       "      <td>NaN</td>\n",
       "      <td>.. Not available.</td>\n",
       "      <td>NaN</td>\n",
       "      <td>NaN</td>\n",
       "      <td>NaN</td>\n",
       "      <td>NaN</td>\n",
       "    </tr>\n",
       "    <tr>\n",
       "      <th>237</th>\n",
       "      <td>NaN</td>\n",
       "      <td>Note: Rankings include all World Bank Atlas ec...</td>\n",
       "      <td>NaN</td>\n",
       "      <td>NaN</td>\n",
       "      <td>NaN</td>\n",
       "      <td>NaN</td>\n",
       "    </tr>\n",
       "    <tr>\n",
       "      <th>238</th>\n",
       "      <td>NaN</td>\n",
       "      <td>Figures in italics are for 2016 or 2015; ranki...</td>\n",
       "      <td>NaN</td>\n",
       "      <td>NaN</td>\n",
       "      <td>NaN</td>\n",
       "      <td>NaN</td>\n",
       "    </tr>\n",
       "    <tr>\n",
       "      <th>239</th>\n",
       "      <td>NaN</td>\n",
       "      <td>a. Based on data from official statistics of U...</td>\n",
       "      <td>NaN</td>\n",
       "      <td>NaN</td>\n",
       "      <td>NaN</td>\n",
       "      <td>NaN</td>\n",
       "    </tr>\n",
       "    <tr>\n",
       "      <th>240</th>\n",
       "      <td>NaN</td>\n",
       "      <td>GDP data source: http://data.worldbank.org/dat...</td>\n",
       "      <td>NaN</td>\n",
       "      <td>NaN</td>\n",
       "      <td>NaN</td>\n",
       "      <td>NaN</td>\n",
       "    </tr>\n",
       "    <tr>\n",
       "      <th>241</th>\n",
       "      <td>NaN</td>\n",
       "      <td>GDP projections:  http://data.worldbank.org/da...</td>\n",
       "      <td>NaN</td>\n",
       "      <td>NaN</td>\n",
       "      <td>NaN</td>\n",
       "      <td>NaN</td>\n",
       "    </tr>\n",
       "  </tbody>\n",
       "</table>\n",
       "</div>"
      ],
      "text/plain": [
       "    Unnamed: 0                                         Unnamed: 1  Unnamed: 2  \\\n",
       "202        TUV                                                200         NaN   \n",
       "203        NaN                                                NaN         NaN   \n",
       "204        ABW                                                NaN         NaN   \n",
       "205        BMU                                                NaN         NaN   \n",
       "206        VGB                                                NaN         NaN   \n",
       "207        CYM                                                NaN         NaN   \n",
       "208        CHI                                                NaN         NaN   \n",
       "209        CUW                                                NaN         NaN   \n",
       "210        ERI                                                NaN         NaN   \n",
       "211        PYF                                                NaN         NaN   \n",
       "212        GIB                                                NaN         NaN   \n",
       "213        PRK                                                NaN         NaN   \n",
       "214        MCO                                                NaN         NaN   \n",
       "215        NCL                                                NaN         NaN   \n",
       "216        SXM                                                NaN         NaN   \n",
       "217        MAF                                                NaN         NaN   \n",
       "218        SYR                                                NaN         NaN   \n",
       "219        TCA                                                NaN         NaN   \n",
       "220        VEN                                                NaN         NaN   \n",
       "221        NaN                                                NaN         NaN   \n",
       "222        WLD                                                NaN         NaN   \n",
       "223        NaN                                                NaN         NaN   \n",
       "224        EAS                                                NaN         NaN   \n",
       "225        ECS                                                NaN         NaN   \n",
       "226        LCN                                                NaN         NaN   \n",
       "227        MEA                                                NaN         NaN   \n",
       "228        NAC                                                NaN         NaN   \n",
       "229        SAS                                                NaN         NaN   \n",
       "230        SSF                                                NaN         NaN   \n",
       "231        LIC                                                NaN         NaN   \n",
       "232        LMC                                                NaN         NaN   \n",
       "233        UMC                                                NaN         NaN   \n",
       "234        HIC                                                NaN         NaN   \n",
       "235        NaN                                                NaN         NaN   \n",
       "236        NaN                                .. Not available.           NaN   \n",
       "237        NaN  Note: Rankings include all World Bank Atlas ec...         NaN   \n",
       "238        NaN  Figures in italics are for 2016 or 2015; ranki...         NaN   \n",
       "239        NaN  a. Based on data from official statistics of U...         NaN   \n",
       "240        NaN  GDP data source: http://data.worldbank.org/dat...         NaN   \n",
       "241        NaN  GDP projections:  http://data.worldbank.org/da...         NaN   \n",
       "\n",
       "                     Unnamed: 3   Unnamed: 4 Unnamed: 5  \n",
       "202                      Tuvalu      39.7313        NaN  \n",
       "203                         NaN          NaN        NaN  \n",
       "204                       Aruba           ..        NaN  \n",
       "205                     Bermuda           ..        NaN  \n",
       "206      British Virgin Islands           ..        NaN  \n",
       "207              Cayman Islands           ..        NaN  \n",
       "208             Channel Islands           ..        NaN  \n",
       "209                     Curaçao           ..        NaN  \n",
       "210                     Eritrea           ..        NaN  \n",
       "211            French Polynesia           ..        NaN  \n",
       "212                   Gibraltar           ..        NaN  \n",
       "213   Korea, Dem. People's Rep.           ..        NaN  \n",
       "214                      Monaco           ..        NaN  \n",
       "215               New Caledonia           ..        NaN  \n",
       "216   Sint Maarten (Dutch part)           ..        NaN  \n",
       "217    St. Martin (French part)           ..        NaN  \n",
       "218        Syrian Arab Republic           ..        NaN  \n",
       "219    Turks and Caicos Islands           ..        NaN  \n",
       "220               Venezuela, RB           ..        NaN  \n",
       "221                         NaN          NaN        NaN  \n",
       "222                       World  8.06838e+07        NaN  \n",
       "223                         NaN          NaN        NaN  \n",
       "224         East Asia & Pacific  2.39993e+07        NaN  \n",
       "225       Europe & Central Asia  2.14385e+07        NaN  \n",
       "226   Latin America & Caribbean  5.95467e+06        NaN  \n",
       "227  Middle East & North Africa  3.26575e+06        NaN  \n",
       "228               North America    2.105e+07        NaN  \n",
       "229                  South Asia  3.29174e+06        NaN  \n",
       "230          Sub-Saharan Africa  1.64871e+06        NaN  \n",
       "231                  Low income       549654        NaN  \n",
       "232         Lower middle income  6.50416e+06        NaN  \n",
       "233         Upper middle income  2.21684e+07        NaN  \n",
       "234                 High income  5.14754e+07        NaN  \n",
       "235                         NaN          NaN        NaN  \n",
       "236                         NaN          NaN        NaN  \n",
       "237                         NaN          NaN        NaN  \n",
       "238                         NaN          NaN        NaN  \n",
       "239                         NaN          NaN        NaN  \n",
       "240                         NaN          NaN        NaN  \n",
       "241                         NaN          NaN        NaN  "
      ]
     },
     "execution_count": 22,
     "metadata": {},
     "output_type": "execute_result"
    }
   ],
   "source": [
    "prueba_df_pib.tail(40)"
   ]
  },
  {
   "cell_type": "code",
   "execution_count": 23,
   "metadata": {},
   "outputs": [],
   "source": [
    "df_pib = pd.read_excel(dataset_pib, skiprows =4,skipfooter=39)"
   ]
  },
  {
   "cell_type": "code",
   "execution_count": 24,
   "metadata": {},
   "outputs": [
    {
     "data": {
      "text/html": [
       "<div>\n",
       "<style scoped>\n",
       "    .dataframe tbody tr th:only-of-type {\n",
       "        vertical-align: middle;\n",
       "    }\n",
       "\n",
       "    .dataframe tbody tr th {\n",
       "        vertical-align: top;\n",
       "    }\n",
       "\n",
       "    .dataframe thead th {\n",
       "        text-align: right;\n",
       "    }\n",
       "</style>\n",
       "<table border=\"1\" class=\"dataframe\">\n",
       "  <thead>\n",
       "    <tr style=\"text-align: right;\">\n",
       "      <th></th>\n",
       "      <th>Unnamed: 0</th>\n",
       "      <th>Unnamed: 1</th>\n",
       "      <th>Unnamed: 2</th>\n",
       "      <th>Unnamed: 3</th>\n",
       "      <th>Unnamed: 4</th>\n",
       "      <th>Unnamed: 5</th>\n",
       "    </tr>\n",
       "  </thead>\n",
       "  <tbody>\n",
       "    <tr>\n",
       "      <th>0</th>\n",
       "      <td>USA</td>\n",
       "      <td>1</td>\n",
       "      <td>NaN</td>\n",
       "      <td>United States</td>\n",
       "      <td>1.939060e+07</td>\n",
       "      <td>NaN</td>\n",
       "    </tr>\n",
       "    <tr>\n",
       "      <th>1</th>\n",
       "      <td>CHN</td>\n",
       "      <td>2</td>\n",
       "      <td>NaN</td>\n",
       "      <td>China</td>\n",
       "      <td>1.223770e+07</td>\n",
       "      <td>NaN</td>\n",
       "    </tr>\n",
       "    <tr>\n",
       "      <th>2</th>\n",
       "      <td>JPN</td>\n",
       "      <td>3</td>\n",
       "      <td>NaN</td>\n",
       "      <td>Japan</td>\n",
       "      <td>4.872137e+06</td>\n",
       "      <td>NaN</td>\n",
       "    </tr>\n",
       "    <tr>\n",
       "      <th>3</th>\n",
       "      <td>DEU</td>\n",
       "      <td>4</td>\n",
       "      <td>NaN</td>\n",
       "      <td>Germany</td>\n",
       "      <td>3.677439e+06</td>\n",
       "      <td>NaN</td>\n",
       "    </tr>\n",
       "    <tr>\n",
       "      <th>4</th>\n",
       "      <td>GBR</td>\n",
       "      <td>5</td>\n",
       "      <td>NaN</td>\n",
       "      <td>United Kingdom</td>\n",
       "      <td>2.622434e+06</td>\n",
       "      <td>NaN</td>\n",
       "    </tr>\n",
       "  </tbody>\n",
       "</table>\n",
       "</div>"
      ],
      "text/plain": [
       "  Unnamed: 0  Unnamed: 1  Unnamed: 2      Unnamed: 3    Unnamed: 4 Unnamed: 5\n",
       "0        USA           1         NaN   United States  1.939060e+07        NaN\n",
       "1        CHN           2         NaN           China  1.223770e+07        NaN\n",
       "2        JPN           3         NaN           Japan  4.872137e+06        NaN\n",
       "3        DEU           4         NaN         Germany  3.677439e+06        NaN\n",
       "4        GBR           5         NaN  United Kingdom  2.622434e+06        NaN"
      ]
     },
     "execution_count": 24,
     "metadata": {},
     "output_type": "execute_result"
    }
   ],
   "source": [
    "df_pib.head()"
   ]
  },
  {
   "cell_type": "code",
   "execution_count": 25,
   "metadata": {
    "scrolled": true
   },
   "outputs": [
    {
     "data": {
      "text/html": [
       "<div>\n",
       "<style scoped>\n",
       "    .dataframe tbody tr th:only-of-type {\n",
       "        vertical-align: middle;\n",
       "    }\n",
       "\n",
       "    .dataframe tbody tr th {\n",
       "        vertical-align: top;\n",
       "    }\n",
       "\n",
       "    .dataframe thead th {\n",
       "        text-align: right;\n",
       "    }\n",
       "</style>\n",
       "<table border=\"1\" class=\"dataframe\">\n",
       "  <thead>\n",
       "    <tr style=\"text-align: right;\">\n",
       "      <th></th>\n",
       "      <th>Unnamed: 0</th>\n",
       "      <th>Unnamed: 1</th>\n",
       "      <th>Unnamed: 2</th>\n",
       "      <th>Unnamed: 3</th>\n",
       "      <th>Unnamed: 4</th>\n",
       "      <th>Unnamed: 5</th>\n",
       "    </tr>\n",
       "  </thead>\n",
       "  <tbody>\n",
       "    <tr>\n",
       "      <th>195</th>\n",
       "      <td>PLW</td>\n",
       "      <td>196</td>\n",
       "      <td>NaN</td>\n",
       "      <td>Palau</td>\n",
       "      <td>291.544300</td>\n",
       "      <td>NaN</td>\n",
       "    </tr>\n",
       "    <tr>\n",
       "      <th>196</th>\n",
       "      <td>MHL</td>\n",
       "      <td>197</td>\n",
       "      <td>NaN</td>\n",
       "      <td>Marshall Islands</td>\n",
       "      <td>199.399247</td>\n",
       "      <td>NaN</td>\n",
       "    </tr>\n",
       "    <tr>\n",
       "      <th>197</th>\n",
       "      <td>KIR</td>\n",
       "      <td>198</td>\n",
       "      <td>NaN</td>\n",
       "      <td>Kiribati</td>\n",
       "      <td>196.150061</td>\n",
       "      <td>NaN</td>\n",
       "    </tr>\n",
       "    <tr>\n",
       "      <th>198</th>\n",
       "      <td>NRU</td>\n",
       "      <td>199</td>\n",
       "      <td>NaN</td>\n",
       "      <td>Nauru</td>\n",
       "      <td>113.884908</td>\n",
       "      <td>NaN</td>\n",
       "    </tr>\n",
       "    <tr>\n",
       "      <th>199</th>\n",
       "      <td>TUV</td>\n",
       "      <td>200</td>\n",
       "      <td>NaN</td>\n",
       "      <td>Tuvalu</td>\n",
       "      <td>39.731317</td>\n",
       "      <td>NaN</td>\n",
       "    </tr>\n",
       "  </tbody>\n",
       "</table>\n",
       "</div>"
      ],
      "text/plain": [
       "    Unnamed: 0  Unnamed: 1  Unnamed: 2        Unnamed: 3  Unnamed: 4  \\\n",
       "195        PLW         196         NaN             Palau  291.544300   \n",
       "196        MHL         197         NaN  Marshall Islands  199.399247   \n",
       "197        KIR         198         NaN          Kiribati  196.150061   \n",
       "198        NRU         199         NaN             Nauru  113.884908   \n",
       "199        TUV         200         NaN            Tuvalu   39.731317   \n",
       "\n",
       "    Unnamed: 5  \n",
       "195        NaN  \n",
       "196        NaN  \n",
       "197        NaN  \n",
       "198        NaN  \n",
       "199        NaN  "
      ]
     },
     "execution_count": 25,
     "metadata": {},
     "output_type": "execute_result"
    }
   ],
   "source": [
    "df_pib.tail()"
   ]
  },
  {
   "cell_type": "code",
   "execution_count": 26,
   "metadata": {
    "scrolled": true
   },
   "outputs": [
    {
     "data": {
      "text/plain": [
       "['Unnamed: 0',\n",
       " 'Unnamed: 1',\n",
       " 'Unnamed: 2',\n",
       " 'Unnamed: 3',\n",
       " 'Unnamed: 4',\n",
       " 'Unnamed: 5']"
      ]
     },
     "execution_count": 26,
     "metadata": {},
     "output_type": "execute_result"
    }
   ],
   "source": [
    "df_pib.columns.tolist()"
   ]
  },
  {
   "cell_type": "code",
   "execution_count": 27,
   "metadata": {},
   "outputs": [],
   "source": [
    "df_pib_rename= df_pib.rename(columns={\"Unnamed: 3\" : \"Country\", \"Unnamed: 4\": \"Million Dolar\"} )"
   ]
  },
  {
   "cell_type": "code",
   "execution_count": 28,
   "metadata": {},
   "outputs": [
    {
     "data": {
      "text/plain": [
       "['Unnamed: 0',\n",
       " 'Unnamed: 1',\n",
       " 'Unnamed: 2',\n",
       " 'Country',\n",
       " 'Million Dolar',\n",
       " 'Unnamed: 5']"
      ]
     },
     "execution_count": 28,
     "metadata": {},
     "output_type": "execute_result"
    }
   ],
   "source": [
    "df_pib_rename.columns.tolist()"
   ]
  },
  {
   "cell_type": "code",
   "execution_count": 29,
   "metadata": {},
   "outputs": [],
   "source": [
    "pib_mundial = df_pib_rename.filter(items=[\"Country\",\"Million Dolar\"])"
   ]
  },
  {
   "cell_type": "code",
   "execution_count": 30,
   "metadata": {
    "scrolled": true
   },
   "outputs": [
    {
     "data": {
      "text/html": [
       "<div>\n",
       "<style scoped>\n",
       "    .dataframe tbody tr th:only-of-type {\n",
       "        vertical-align: middle;\n",
       "    }\n",
       "\n",
       "    .dataframe tbody tr th {\n",
       "        vertical-align: top;\n",
       "    }\n",
       "\n",
       "    .dataframe thead th {\n",
       "        text-align: right;\n",
       "    }\n",
       "</style>\n",
       "<table border=\"1\" class=\"dataframe\">\n",
       "  <thead>\n",
       "    <tr style=\"text-align: right;\">\n",
       "      <th></th>\n",
       "      <th>Country</th>\n",
       "      <th>Million Dolar</th>\n",
       "    </tr>\n",
       "  </thead>\n",
       "  <tbody>\n",
       "    <tr>\n",
       "      <th>0</th>\n",
       "      <td>United States</td>\n",
       "      <td>1.939060e+07</td>\n",
       "    </tr>\n",
       "    <tr>\n",
       "      <th>1</th>\n",
       "      <td>China</td>\n",
       "      <td>1.223770e+07</td>\n",
       "    </tr>\n",
       "    <tr>\n",
       "      <th>2</th>\n",
       "      <td>Japan</td>\n",
       "      <td>4.872137e+06</td>\n",
       "    </tr>\n",
       "    <tr>\n",
       "      <th>3</th>\n",
       "      <td>Germany</td>\n",
       "      <td>3.677439e+06</td>\n",
       "    </tr>\n",
       "    <tr>\n",
       "      <th>4</th>\n",
       "      <td>United Kingdom</td>\n",
       "      <td>2.622434e+06</td>\n",
       "    </tr>\n",
       "  </tbody>\n",
       "</table>\n",
       "</div>"
      ],
      "text/plain": [
       "          Country  Million Dolar\n",
       "0   United States   1.939060e+07\n",
       "1           China   1.223770e+07\n",
       "2           Japan   4.872137e+06\n",
       "3         Germany   3.677439e+06\n",
       "4  United Kingdom   2.622434e+06"
      ]
     },
     "execution_count": 30,
     "metadata": {},
     "output_type": "execute_result"
    }
   ],
   "source": [
    "pib_mundial.head()"
   ]
  },
  {
   "cell_type": "code",
   "execution_count": null,
   "metadata": {},
   "outputs": [],
   "source": []
  },
  {
   "cell_type": "code",
   "execution_count": 31,
   "metadata": {},
   "outputs": [],
   "source": [
    "#limpieza del fichero de poblacion_mundial."
   ]
  },
  {
   "cell_type": "code",
   "execution_count": 32,
   "metadata": {},
   "outputs": [],
   "source": [
    "dataset_poblacion = path_to_zips + name_poblacion"
   ]
  },
  {
   "cell_type": "code",
   "execution_count": 33,
   "metadata": {},
   "outputs": [],
   "source": [
    "prueba_df_poblacion= pd.read_excel(dataset_poblacion, skiprows =1)"
   ]
  },
  {
   "cell_type": "code",
   "execution_count": 34,
   "metadata": {},
   "outputs": [
    {
     "data": {
      "text/html": [
       "<div>\n",
       "<style scoped>\n",
       "    .dataframe tbody tr th:only-of-type {\n",
       "        vertical-align: middle;\n",
       "    }\n",
       "\n",
       "    .dataframe tbody tr th {\n",
       "        vertical-align: top;\n",
       "    }\n",
       "\n",
       "    .dataframe thead th {\n",
       "        text-align: right;\n",
       "    }\n",
       "</style>\n",
       "<table border=\"1\" class=\"dataframe\">\n",
       "  <thead>\n",
       "    <tr style=\"text-align: right;\">\n",
       "      <th></th>\n",
       "      <th>Unnamed: 0</th>\n",
       "      <th>Unnamed: 1</th>\n",
       "      <th>Unnamed: 2</th>\n",
       "      <th>Unnamed: 3</th>\n",
       "      <th>Unnamed: 4</th>\n",
       "      <th>Unnamed: 5</th>\n",
       "    </tr>\n",
       "  </thead>\n",
       "  <tbody>\n",
       "    <tr>\n",
       "      <th>0</th>\n",
       "      <td>NaN</td>\n",
       "      <td>NaN</td>\n",
       "      <td>NaN</td>\n",
       "      <td>NaN</td>\n",
       "      <td>NaN</td>\n",
       "      <td>NaN</td>\n",
       "    </tr>\n",
       "    <tr>\n",
       "      <th>1</th>\n",
       "      <td>NaN</td>\n",
       "      <td>Ranking</td>\n",
       "      <td>NaN</td>\n",
       "      <td>Economy</td>\n",
       "      <td>(thousands)</td>\n",
       "      <td>NaN</td>\n",
       "    </tr>\n",
       "    <tr>\n",
       "      <th>2</th>\n",
       "      <td>NaN</td>\n",
       "      <td>NaN</td>\n",
       "      <td>NaN</td>\n",
       "      <td>NaN</td>\n",
       "      <td>NaN</td>\n",
       "      <td>NaN</td>\n",
       "    </tr>\n",
       "    <tr>\n",
       "      <th>3</th>\n",
       "      <td>CHN</td>\n",
       "      <td>1</td>\n",
       "      <td>NaN</td>\n",
       "      <td>China</td>\n",
       "      <td>1386395</td>\n",
       "      <td>NaN</td>\n",
       "    </tr>\n",
       "    <tr>\n",
       "      <th>4</th>\n",
       "      <td>IND</td>\n",
       "      <td>2</td>\n",
       "      <td>NaN</td>\n",
       "      <td>India</td>\n",
       "      <td>1339180</td>\n",
       "      <td>NaN</td>\n",
       "    </tr>\n",
       "    <tr>\n",
       "      <th>5</th>\n",
       "      <td>USA</td>\n",
       "      <td>3</td>\n",
       "      <td>NaN</td>\n",
       "      <td>United States</td>\n",
       "      <td>325719</td>\n",
       "      <td>NaN</td>\n",
       "    </tr>\n",
       "    <tr>\n",
       "      <th>6</th>\n",
       "      <td>IDN</td>\n",
       "      <td>4</td>\n",
       "      <td>NaN</td>\n",
       "      <td>Indonesia</td>\n",
       "      <td>263991</td>\n",
       "      <td>NaN</td>\n",
       "    </tr>\n",
       "    <tr>\n",
       "      <th>7</th>\n",
       "      <td>BRA</td>\n",
       "      <td>5</td>\n",
       "      <td>NaN</td>\n",
       "      <td>Brazil</td>\n",
       "      <td>209288</td>\n",
       "      <td>NaN</td>\n",
       "    </tr>\n",
       "    <tr>\n",
       "      <th>8</th>\n",
       "      <td>PAK</td>\n",
       "      <td>6</td>\n",
       "      <td>NaN</td>\n",
       "      <td>Pakistan</td>\n",
       "      <td>197016</td>\n",
       "      <td>NaN</td>\n",
       "    </tr>\n",
       "    <tr>\n",
       "      <th>9</th>\n",
       "      <td>NGA</td>\n",
       "      <td>7</td>\n",
       "      <td>NaN</td>\n",
       "      <td>Nigeria</td>\n",
       "      <td>190886</td>\n",
       "      <td>NaN</td>\n",
       "    </tr>\n",
       "  </tbody>\n",
       "</table>\n",
       "</div>"
      ],
      "text/plain": [
       "  Unnamed: 0 Unnamed: 1  Unnamed: 2     Unnamed: 3   Unnamed: 4 Unnamed: 5\n",
       "0        NaN        NaN         NaN            NaN          NaN        NaN\n",
       "1        NaN    Ranking         NaN        Economy  (thousands)        NaN\n",
       "2        NaN        NaN         NaN            NaN          NaN        NaN\n",
       "3        CHN          1         NaN          China      1386395        NaN\n",
       "4        IND          2         NaN          India      1339180        NaN\n",
       "5        USA          3         NaN  United States       325719        NaN\n",
       "6        IDN          4         NaN      Indonesia       263991        NaN\n",
       "7        BRA          5         NaN         Brazil       209288        NaN\n",
       "8        PAK          6         NaN       Pakistan       197016        NaN\n",
       "9        NGA          7         NaN        Nigeria       190886        NaN"
      ]
     },
     "execution_count": 34,
     "metadata": {},
     "output_type": "execute_result"
    }
   ],
   "source": [
    "prueba_df_poblacion.head(10)"
   ]
  },
  {
   "cell_type": "code",
   "execution_count": 35,
   "metadata": {},
   "outputs": [
    {
     "data": {
      "text/html": [
       "<div>\n",
       "<style scoped>\n",
       "    .dataframe tbody tr th:only-of-type {\n",
       "        vertical-align: middle;\n",
       "    }\n",
       "\n",
       "    .dataframe tbody tr th {\n",
       "        vertical-align: top;\n",
       "    }\n",
       "\n",
       "    .dataframe thead th {\n",
       "        text-align: right;\n",
       "    }\n",
       "</style>\n",
       "<table border=\"1\" class=\"dataframe\">\n",
       "  <thead>\n",
       "    <tr style=\"text-align: right;\">\n",
       "      <th></th>\n",
       "      <th>Unnamed: 0</th>\n",
       "      <th>Unnamed: 1</th>\n",
       "      <th>Unnamed: 2</th>\n",
       "      <th>Unnamed: 3</th>\n",
       "      <th>Unnamed: 4</th>\n",
       "      <th>Unnamed: 5</th>\n",
       "    </tr>\n",
       "  </thead>\n",
       "  <tbody>\n",
       "    <tr>\n",
       "      <th>217</th>\n",
       "      <td>NRU</td>\n",
       "      <td>215</td>\n",
       "      <td>NaN</td>\n",
       "      <td>Nauru</td>\n",
       "      <td>14</td>\n",
       "      <td>NaN</td>\n",
       "    </tr>\n",
       "    <tr>\n",
       "      <th>218</th>\n",
       "      <td>TUV</td>\n",
       "      <td>216</td>\n",
       "      <td>NaN</td>\n",
       "      <td>Tuvalu</td>\n",
       "      <td>11</td>\n",
       "      <td>NaN</td>\n",
       "    </tr>\n",
       "    <tr>\n",
       "      <th>219</th>\n",
       "      <td>NaN</td>\n",
       "      <td>NaN</td>\n",
       "      <td>NaN</td>\n",
       "      <td>NaN</td>\n",
       "      <td>NaN</td>\n",
       "      <td>NaN</td>\n",
       "    </tr>\n",
       "    <tr>\n",
       "      <th>220</th>\n",
       "      <td>ERI</td>\n",
       "      <td>NaN</td>\n",
       "      <td>NaN</td>\n",
       "      <td>Eritrea</td>\n",
       "      <td>..</td>\n",
       "      <td>NaN</td>\n",
       "    </tr>\n",
       "    <tr>\n",
       "      <th>221</th>\n",
       "      <td>NaN</td>\n",
       "      <td>NaN</td>\n",
       "      <td>NaN</td>\n",
       "      <td>NaN</td>\n",
       "      <td>NaN</td>\n",
       "      <td>NaN</td>\n",
       "    </tr>\n",
       "    <tr>\n",
       "      <th>222</th>\n",
       "      <td>WLD</td>\n",
       "      <td>NaN</td>\n",
       "      <td>NaN</td>\n",
       "      <td>World</td>\n",
       "      <td>7530360</td>\n",
       "      <td>NaN</td>\n",
       "    </tr>\n",
       "    <tr>\n",
       "      <th>223</th>\n",
       "      <td>NaN</td>\n",
       "      <td>NaN</td>\n",
       "      <td>NaN</td>\n",
       "      <td>NaN</td>\n",
       "      <td>NaN</td>\n",
       "      <td>NaN</td>\n",
       "    </tr>\n",
       "    <tr>\n",
       "      <th>224</th>\n",
       "      <td>EAS</td>\n",
       "      <td>NaN</td>\n",
       "      <td>NaN</td>\n",
       "      <td>East Asia &amp; Pacific</td>\n",
       "      <td>2314365</td>\n",
       "      <td>NaN</td>\n",
       "    </tr>\n",
       "    <tr>\n",
       "      <th>225</th>\n",
       "      <td>ECS</td>\n",
       "      <td>NaN</td>\n",
       "      <td>NaN</td>\n",
       "      <td>Europe &amp; Central Asia</td>\n",
       "      <td>915546</td>\n",
       "      <td>NaN</td>\n",
       "    </tr>\n",
       "    <tr>\n",
       "      <th>226</th>\n",
       "      <td>LCN</td>\n",
       "      <td>NaN</td>\n",
       "      <td>NaN</td>\n",
       "      <td>Latin America &amp; Caribbean</td>\n",
       "      <td>644138</td>\n",
       "      <td>NaN</td>\n",
       "    </tr>\n",
       "    <tr>\n",
       "      <th>227</th>\n",
       "      <td>MEA</td>\n",
       "      <td>NaN</td>\n",
       "      <td>NaN</td>\n",
       "      <td>Middle East &amp; North Africa</td>\n",
       "      <td>444322</td>\n",
       "      <td>NaN</td>\n",
       "    </tr>\n",
       "    <tr>\n",
       "      <th>228</th>\n",
       "      <td>NAC</td>\n",
       "      <td>NaN</td>\n",
       "      <td>NaN</td>\n",
       "      <td>North America</td>\n",
       "      <td>362493</td>\n",
       "      <td>NaN</td>\n",
       "    </tr>\n",
       "    <tr>\n",
       "      <th>229</th>\n",
       "      <td>SAS</td>\n",
       "      <td>NaN</td>\n",
       "      <td>NaN</td>\n",
       "      <td>South Asia</td>\n",
       "      <td>1788389</td>\n",
       "      <td>NaN</td>\n",
       "    </tr>\n",
       "    <tr>\n",
       "      <th>230</th>\n",
       "      <td>SSF</td>\n",
       "      <td>NaN</td>\n",
       "      <td>NaN</td>\n",
       "      <td>Sub-Saharan Africa</td>\n",
       "      <td>1061108</td>\n",
       "      <td>NaN</td>\n",
       "    </tr>\n",
       "    <tr>\n",
       "      <th>231</th>\n",
       "      <td>LIC</td>\n",
       "      <td>NaN</td>\n",
       "      <td>NaN</td>\n",
       "      <td>Low income</td>\n",
       "      <td>732449</td>\n",
       "      <td>NaN</td>\n",
       "    </tr>\n",
       "    <tr>\n",
       "      <th>232</th>\n",
       "      <td>LMC</td>\n",
       "      <td>NaN</td>\n",
       "      <td>NaN</td>\n",
       "      <td>Lower middle income</td>\n",
       "      <td>2972643</td>\n",
       "      <td>NaN</td>\n",
       "    </tr>\n",
       "    <tr>\n",
       "      <th>233</th>\n",
       "      <td>UMC</td>\n",
       "      <td>NaN</td>\n",
       "      <td>NaN</td>\n",
       "      <td>Upper middle income</td>\n",
       "      <td>2576203</td>\n",
       "      <td>NaN</td>\n",
       "    </tr>\n",
       "    <tr>\n",
       "      <th>234</th>\n",
       "      <td>HIC</td>\n",
       "      <td>NaN</td>\n",
       "      <td>NaN</td>\n",
       "      <td>High income</td>\n",
       "      <td>1249066</td>\n",
       "      <td>NaN</td>\n",
       "    </tr>\n",
       "    <tr>\n",
       "      <th>235</th>\n",
       "      <td>NaN</td>\n",
       "      <td>NaN</td>\n",
       "      <td>NaN</td>\n",
       "      <td>NaN</td>\n",
       "      <td>NaN</td>\n",
       "      <td>NaN</td>\n",
       "    </tr>\n",
       "    <tr>\n",
       "      <th>236</th>\n",
       "      <td>NaN</td>\n",
       "      <td>a. Excludes Abkhazia and South Ossetia.  b. Ex...</td>\n",
       "      <td>NaN</td>\n",
       "      <td>NaN</td>\n",
       "      <td>NaN</td>\n",
       "      <td>NaN</td>\n",
       "    </tr>\n",
       "    <tr>\n",
       "      <th>237</th>\n",
       "      <td>NaN</td>\n",
       "      <td>NaN</td>\n",
       "      <td>NaN</td>\n",
       "      <td>NaN</td>\n",
       "      <td>NaN</td>\n",
       "      <td>NaN</td>\n",
       "    </tr>\n",
       "    <tr>\n",
       "      <th>238</th>\n",
       "      <td>NaN</td>\n",
       "      <td>http://data.worldbank.org/data-catalog/world-d...</td>\n",
       "      <td>NaN</td>\n",
       "      <td>NaN</td>\n",
       "      <td>NaN</td>\n",
       "      <td>NaN</td>\n",
       "    </tr>\n",
       "  </tbody>\n",
       "</table>\n",
       "</div>"
      ],
      "text/plain": [
       "    Unnamed: 0                                         Unnamed: 1  Unnamed: 2  \\\n",
       "217        NRU                                                215         NaN   \n",
       "218        TUV                                                216         NaN   \n",
       "219        NaN                                                NaN         NaN   \n",
       "220       ERI                                                 NaN         NaN   \n",
       "221        NaN                                                NaN         NaN   \n",
       "222        WLD                                                NaN         NaN   \n",
       "223        NaN                                                NaN         NaN   \n",
       "224        EAS                                                NaN         NaN   \n",
       "225        ECS                                                NaN         NaN   \n",
       "226        LCN                                                NaN         NaN   \n",
       "227        MEA                                                NaN         NaN   \n",
       "228        NAC                                                NaN         NaN   \n",
       "229        SAS                                                NaN         NaN   \n",
       "230        SSF                                                NaN         NaN   \n",
       "231        LIC                                                NaN         NaN   \n",
       "232        LMC                                                NaN         NaN   \n",
       "233        UMC                                                NaN         NaN   \n",
       "234        HIC                                                NaN         NaN   \n",
       "235        NaN                                                NaN         NaN   \n",
       "236        NaN  a. Excludes Abkhazia and South Ossetia.  b. Ex...         NaN   \n",
       "237        NaN                                                NaN         NaN   \n",
       "238        NaN  http://data.worldbank.org/data-catalog/world-d...         NaN   \n",
       "\n",
       "                     Unnamed: 3 Unnamed: 4 Unnamed: 5  \n",
       "217                       Nauru         14        NaN  \n",
       "218                      Tuvalu         11        NaN  \n",
       "219                         NaN        NaN        NaN  \n",
       "220                     Eritrea         ..        NaN  \n",
       "221                         NaN        NaN        NaN  \n",
       "222                       World    7530360        NaN  \n",
       "223                         NaN        NaN        NaN  \n",
       "224         East Asia & Pacific    2314365        NaN  \n",
       "225       Europe & Central Asia     915546        NaN  \n",
       "226   Latin America & Caribbean     644138        NaN  \n",
       "227  Middle East & North Africa     444322        NaN  \n",
       "228               North America     362493        NaN  \n",
       "229                  South Asia    1788389        NaN  \n",
       "230          Sub-Saharan Africa    1061108        NaN  \n",
       "231                  Low income     732449        NaN  \n",
       "232         Lower middle income    2972643        NaN  \n",
       "233         Upper middle income    2576203        NaN  \n",
       "234                 High income    1249066        NaN  \n",
       "235                         NaN        NaN        NaN  \n",
       "236                         NaN        NaN        NaN  \n",
       "237                         NaN        NaN        NaN  \n",
       "238                         NaN        NaN        NaN  "
      ]
     },
     "execution_count": 35,
     "metadata": {},
     "output_type": "execute_result"
    }
   ],
   "source": [
    "prueba_df_poblacion.tail(22)"
   ]
  },
  {
   "cell_type": "code",
   "execution_count": 36,
   "metadata": {},
   "outputs": [],
   "source": [
    "df_poblacion = pd.read_excel(dataset_poblacion, skiprows=4, skipfooter=20)"
   ]
  },
  {
   "cell_type": "code",
   "execution_count": 37,
   "metadata": {},
   "outputs": [
    {
     "data": {
      "text/html": [
       "<div>\n",
       "<style scoped>\n",
       "    .dataframe tbody tr th:only-of-type {\n",
       "        vertical-align: middle;\n",
       "    }\n",
       "\n",
       "    .dataframe tbody tr th {\n",
       "        vertical-align: top;\n",
       "    }\n",
       "\n",
       "    .dataframe thead th {\n",
       "        text-align: right;\n",
       "    }\n",
       "</style>\n",
       "<table border=\"1\" class=\"dataframe\">\n",
       "  <thead>\n",
       "    <tr style=\"text-align: right;\">\n",
       "      <th></th>\n",
       "      <th>Unnamed: 0</th>\n",
       "      <th>Unnamed: 1</th>\n",
       "      <th>Unnamed: 2</th>\n",
       "      <th>Unnamed: 3</th>\n",
       "      <th>Unnamed: 4</th>\n",
       "      <th>Unnamed: 5</th>\n",
       "    </tr>\n",
       "  </thead>\n",
       "  <tbody>\n",
       "    <tr>\n",
       "      <th>0</th>\n",
       "      <td>CHN</td>\n",
       "      <td>1</td>\n",
       "      <td>NaN</td>\n",
       "      <td>China</td>\n",
       "      <td>1386395</td>\n",
       "      <td>NaN</td>\n",
       "    </tr>\n",
       "    <tr>\n",
       "      <th>1</th>\n",
       "      <td>IND</td>\n",
       "      <td>2</td>\n",
       "      <td>NaN</td>\n",
       "      <td>India</td>\n",
       "      <td>1339180</td>\n",
       "      <td>NaN</td>\n",
       "    </tr>\n",
       "    <tr>\n",
       "      <th>2</th>\n",
       "      <td>USA</td>\n",
       "      <td>3</td>\n",
       "      <td>NaN</td>\n",
       "      <td>United States</td>\n",
       "      <td>325719</td>\n",
       "      <td>NaN</td>\n",
       "    </tr>\n",
       "    <tr>\n",
       "      <th>3</th>\n",
       "      <td>IDN</td>\n",
       "      <td>4</td>\n",
       "      <td>NaN</td>\n",
       "      <td>Indonesia</td>\n",
       "      <td>263991</td>\n",
       "      <td>NaN</td>\n",
       "    </tr>\n",
       "    <tr>\n",
       "      <th>4</th>\n",
       "      <td>BRA</td>\n",
       "      <td>5</td>\n",
       "      <td>NaN</td>\n",
       "      <td>Brazil</td>\n",
       "      <td>209288</td>\n",
       "      <td>NaN</td>\n",
       "    </tr>\n",
       "  </tbody>\n",
       "</table>\n",
       "</div>"
      ],
      "text/plain": [
       "  Unnamed: 0  Unnamed: 1  Unnamed: 2     Unnamed: 3  Unnamed: 4 Unnamed: 5\n",
       "0        CHN           1         NaN          China     1386395        NaN\n",
       "1        IND           2         NaN          India     1339180        NaN\n",
       "2        USA           3         NaN  United States      325719        NaN\n",
       "3        IDN           4         NaN      Indonesia      263991        NaN\n",
       "4        BRA           5         NaN         Brazil      209288        NaN"
      ]
     },
     "execution_count": 37,
     "metadata": {},
     "output_type": "execute_result"
    }
   ],
   "source": [
    "df_poblacion.head()"
   ]
  },
  {
   "cell_type": "code",
   "execution_count": 38,
   "metadata": {},
   "outputs": [
    {
     "data": {
      "text/html": [
       "<div>\n",
       "<style scoped>\n",
       "    .dataframe tbody tr th:only-of-type {\n",
       "        vertical-align: middle;\n",
       "    }\n",
       "\n",
       "    .dataframe tbody tr th {\n",
       "        vertical-align: top;\n",
       "    }\n",
       "\n",
       "    .dataframe thead th {\n",
       "        text-align: right;\n",
       "    }\n",
       "</style>\n",
       "<table border=\"1\" class=\"dataframe\">\n",
       "  <thead>\n",
       "    <tr style=\"text-align: right;\">\n",
       "      <th></th>\n",
       "      <th>Unnamed: 0</th>\n",
       "      <th>Unnamed: 1</th>\n",
       "      <th>Unnamed: 2</th>\n",
       "      <th>Unnamed: 3</th>\n",
       "      <th>Unnamed: 4</th>\n",
       "      <th>Unnamed: 5</th>\n",
       "    </tr>\n",
       "  </thead>\n",
       "  <tbody>\n",
       "    <tr>\n",
       "      <th>211</th>\n",
       "      <td>MAF</td>\n",
       "      <td>212</td>\n",
       "      <td>NaN</td>\n",
       "      <td>St. Martin (French part)</td>\n",
       "      <td>32</td>\n",
       "      <td>NaN</td>\n",
       "    </tr>\n",
       "    <tr>\n",
       "      <th>212</th>\n",
       "      <td>VGB</td>\n",
       "      <td>213</td>\n",
       "      <td>NaN</td>\n",
       "      <td>British Virgin Islands</td>\n",
       "      <td>31</td>\n",
       "      <td>NaN</td>\n",
       "    </tr>\n",
       "    <tr>\n",
       "      <th>213</th>\n",
       "      <td>PLW</td>\n",
       "      <td>214</td>\n",
       "      <td>NaN</td>\n",
       "      <td>Palau</td>\n",
       "      <td>22</td>\n",
       "      <td>NaN</td>\n",
       "    </tr>\n",
       "    <tr>\n",
       "      <th>214</th>\n",
       "      <td>NRU</td>\n",
       "      <td>215</td>\n",
       "      <td>NaN</td>\n",
       "      <td>Nauru</td>\n",
       "      <td>14</td>\n",
       "      <td>NaN</td>\n",
       "    </tr>\n",
       "    <tr>\n",
       "      <th>215</th>\n",
       "      <td>TUV</td>\n",
       "      <td>216</td>\n",
       "      <td>NaN</td>\n",
       "      <td>Tuvalu</td>\n",
       "      <td>11</td>\n",
       "      <td>NaN</td>\n",
       "    </tr>\n",
       "  </tbody>\n",
       "</table>\n",
       "</div>"
      ],
      "text/plain": [
       "    Unnamed: 0  Unnamed: 1  Unnamed: 2                Unnamed: 3  Unnamed: 4  \\\n",
       "211        MAF         212         NaN  St. Martin (French part)          32   \n",
       "212        VGB         213         NaN    British Virgin Islands          31   \n",
       "213        PLW         214         NaN                     Palau          22   \n",
       "214        NRU         215         NaN                     Nauru          14   \n",
       "215        TUV         216         NaN                    Tuvalu          11   \n",
       "\n",
       "    Unnamed: 5  \n",
       "211        NaN  \n",
       "212        NaN  \n",
       "213        NaN  \n",
       "214        NaN  \n",
       "215        NaN  "
      ]
     },
     "execution_count": 38,
     "metadata": {},
     "output_type": "execute_result"
    }
   ],
   "source": [
    "df_poblacion.tail()"
   ]
  },
  {
   "cell_type": "code",
   "execution_count": 39,
   "metadata": {},
   "outputs": [
    {
     "data": {
      "text/plain": [
       "['Unnamed: 0',\n",
       " 'Unnamed: 1',\n",
       " 'Unnamed: 2',\n",
       " 'Unnamed: 3',\n",
       " 'Unnamed: 4',\n",
       " 'Unnamed: 5']"
      ]
     },
     "execution_count": 39,
     "metadata": {},
     "output_type": "execute_result"
    }
   ],
   "source": [
    "df_poblacion.columns.tolist()"
   ]
  },
  {
   "cell_type": "code",
   "execution_count": 40,
   "metadata": {},
   "outputs": [],
   "source": [
    "df_poblacion_rename= df_poblacion.rename(columns={\"Unnamed: 3\" : \"Country\", \"Unnamed: 4\": \"Poblacion entre 1000\"} )"
   ]
  },
  {
   "cell_type": "code",
   "execution_count": 41,
   "metadata": {},
   "outputs": [],
   "source": [
    "df_poblacion_rename.loc[:, \"Poblacion\"]= df_poblacion_rename[\"Poblacion entre 1000\"].map(lambda x: x*1000)"
   ]
  },
  {
   "cell_type": "code",
   "execution_count": 42,
   "metadata": {},
   "outputs": [
    {
     "data": {
      "text/html": [
       "<div>\n",
       "<style scoped>\n",
       "    .dataframe tbody tr th:only-of-type {\n",
       "        vertical-align: middle;\n",
       "    }\n",
       "\n",
       "    .dataframe tbody tr th {\n",
       "        vertical-align: top;\n",
       "    }\n",
       "\n",
       "    .dataframe thead th {\n",
       "        text-align: right;\n",
       "    }\n",
       "</style>\n",
       "<table border=\"1\" class=\"dataframe\">\n",
       "  <thead>\n",
       "    <tr style=\"text-align: right;\">\n",
       "      <th></th>\n",
       "      <th>Unnamed: 0</th>\n",
       "      <th>Unnamed: 1</th>\n",
       "      <th>Unnamed: 2</th>\n",
       "      <th>Country</th>\n",
       "      <th>Poblacion entre 1000</th>\n",
       "      <th>Unnamed: 5</th>\n",
       "      <th>Poblacion</th>\n",
       "    </tr>\n",
       "  </thead>\n",
       "  <tbody>\n",
       "    <tr>\n",
       "      <th>0</th>\n",
       "      <td>CHN</td>\n",
       "      <td>1</td>\n",
       "      <td>NaN</td>\n",
       "      <td>China</td>\n",
       "      <td>1386395</td>\n",
       "      <td>NaN</td>\n",
       "      <td>1386395000</td>\n",
       "    </tr>\n",
       "    <tr>\n",
       "      <th>1</th>\n",
       "      <td>IND</td>\n",
       "      <td>2</td>\n",
       "      <td>NaN</td>\n",
       "      <td>India</td>\n",
       "      <td>1339180</td>\n",
       "      <td>NaN</td>\n",
       "      <td>1339180000</td>\n",
       "    </tr>\n",
       "    <tr>\n",
       "      <th>2</th>\n",
       "      <td>USA</td>\n",
       "      <td>3</td>\n",
       "      <td>NaN</td>\n",
       "      <td>United States</td>\n",
       "      <td>325719</td>\n",
       "      <td>NaN</td>\n",
       "      <td>325719000</td>\n",
       "    </tr>\n",
       "    <tr>\n",
       "      <th>3</th>\n",
       "      <td>IDN</td>\n",
       "      <td>4</td>\n",
       "      <td>NaN</td>\n",
       "      <td>Indonesia</td>\n",
       "      <td>263991</td>\n",
       "      <td>NaN</td>\n",
       "      <td>263991000</td>\n",
       "    </tr>\n",
       "    <tr>\n",
       "      <th>4</th>\n",
       "      <td>BRA</td>\n",
       "      <td>5</td>\n",
       "      <td>NaN</td>\n",
       "      <td>Brazil</td>\n",
       "      <td>209288</td>\n",
       "      <td>NaN</td>\n",
       "      <td>209288000</td>\n",
       "    </tr>\n",
       "  </tbody>\n",
       "</table>\n",
       "</div>"
      ],
      "text/plain": [
       "  Unnamed: 0  Unnamed: 1  Unnamed: 2        Country  Poblacion entre 1000  \\\n",
       "0        CHN           1         NaN          China               1386395   \n",
       "1        IND           2         NaN          India               1339180   \n",
       "2        USA           3         NaN  United States                325719   \n",
       "3        IDN           4         NaN      Indonesia                263991   \n",
       "4        BRA           5         NaN         Brazil                209288   \n",
       "\n",
       "  Unnamed: 5   Poblacion  \n",
       "0        NaN  1386395000  \n",
       "1        NaN  1339180000  \n",
       "2        NaN   325719000  \n",
       "3        NaN   263991000  \n",
       "4        NaN   209288000  "
      ]
     },
     "execution_count": 42,
     "metadata": {},
     "output_type": "execute_result"
    }
   ],
   "source": [
    "df_poblacion_rename.head()"
   ]
  },
  {
   "cell_type": "code",
   "execution_count": 43,
   "metadata": {},
   "outputs": [],
   "source": [
    "poblacion_mundial = df_poblacion_rename.filter(items=[\"Country\",\"Poblacion\"])"
   ]
  },
  {
   "cell_type": "code",
   "execution_count": 44,
   "metadata": {},
   "outputs": [
    {
     "data": {
      "text/html": [
       "<div>\n",
       "<style scoped>\n",
       "    .dataframe tbody tr th:only-of-type {\n",
       "        vertical-align: middle;\n",
       "    }\n",
       "\n",
       "    .dataframe tbody tr th {\n",
       "        vertical-align: top;\n",
       "    }\n",
       "\n",
       "    .dataframe thead th {\n",
       "        text-align: right;\n",
       "    }\n",
       "</style>\n",
       "<table border=\"1\" class=\"dataframe\">\n",
       "  <thead>\n",
       "    <tr style=\"text-align: right;\">\n",
       "      <th></th>\n",
       "      <th>Country</th>\n",
       "      <th>Poblacion</th>\n",
       "    </tr>\n",
       "  </thead>\n",
       "  <tbody>\n",
       "    <tr>\n",
       "      <th>0</th>\n",
       "      <td>China</td>\n",
       "      <td>1386395000</td>\n",
       "    </tr>\n",
       "    <tr>\n",
       "      <th>1</th>\n",
       "      <td>India</td>\n",
       "      <td>1339180000</td>\n",
       "    </tr>\n",
       "    <tr>\n",
       "      <th>2</th>\n",
       "      <td>United States</td>\n",
       "      <td>325719000</td>\n",
       "    </tr>\n",
       "    <tr>\n",
       "      <th>3</th>\n",
       "      <td>Indonesia</td>\n",
       "      <td>263991000</td>\n",
       "    </tr>\n",
       "    <tr>\n",
       "      <th>4</th>\n",
       "      <td>Brazil</td>\n",
       "      <td>209288000</td>\n",
       "    </tr>\n",
       "  </tbody>\n",
       "</table>\n",
       "</div>"
      ],
      "text/plain": [
       "         Country   Poblacion\n",
       "0          China  1386395000\n",
       "1          India  1339180000\n",
       "2  United States   325719000\n",
       "3      Indonesia   263991000\n",
       "4         Brazil   209288000"
      ]
     },
     "execution_count": 44,
     "metadata": {},
     "output_type": "execute_result"
    }
   ],
   "source": [
    "poblacion_mundial.head()"
   ]
  },
  {
   "cell_type": "code",
   "execution_count": 45,
   "metadata": {},
   "outputs": [
    {
     "data": {
      "text/plain": [
       "(216, 2)"
      ]
     },
     "execution_count": 45,
     "metadata": {},
     "output_type": "execute_result"
    }
   ],
   "source": [
    "poblacion_mundial.shape"
   ]
  },
  {
   "cell_type": "code",
   "execution_count": null,
   "metadata": {},
   "outputs": [],
   "source": []
  },
  {
   "cell_type": "code",
   "execution_count": 46,
   "metadata": {},
   "outputs": [],
   "source": [
    "##unificar en una sola tabla."
   ]
  },
  {
   "cell_type": "code",
   "execution_count": 47,
   "metadata": {},
   "outputs": [],
   "source": [
    "union1 = poblacion_mundial.merge(pib_mundial, left_on =\"Country\", right_on=\"Country\")"
   ]
  },
  {
   "cell_type": "code",
   "execution_count": 48,
   "metadata": {},
   "outputs": [
    {
     "data": {
      "text/html": [
       "<div>\n",
       "<style scoped>\n",
       "    .dataframe tbody tr th:only-of-type {\n",
       "        vertical-align: middle;\n",
       "    }\n",
       "\n",
       "    .dataframe tbody tr th {\n",
       "        vertical-align: top;\n",
       "    }\n",
       "\n",
       "    .dataframe thead th {\n",
       "        text-align: right;\n",
       "    }\n",
       "</style>\n",
       "<table border=\"1\" class=\"dataframe\">\n",
       "  <thead>\n",
       "    <tr style=\"text-align: right;\">\n",
       "      <th></th>\n",
       "      <th>Country</th>\n",
       "      <th>Poblacion</th>\n",
       "      <th>Million Dolar</th>\n",
       "    </tr>\n",
       "  </thead>\n",
       "  <tbody>\n",
       "    <tr>\n",
       "      <th>0</th>\n",
       "      <td>China</td>\n",
       "      <td>1386395000</td>\n",
       "      <td>1.223770e+07</td>\n",
       "    </tr>\n",
       "    <tr>\n",
       "      <th>1</th>\n",
       "      <td>India</td>\n",
       "      <td>1339180000</td>\n",
       "      <td>2.597491e+06</td>\n",
       "    </tr>\n",
       "    <tr>\n",
       "      <th>2</th>\n",
       "      <td>United States</td>\n",
       "      <td>325719000</td>\n",
       "      <td>1.939060e+07</td>\n",
       "    </tr>\n",
       "    <tr>\n",
       "      <th>3</th>\n",
       "      <td>Indonesia</td>\n",
       "      <td>263991000</td>\n",
       "      <td>1.015539e+06</td>\n",
       "    </tr>\n",
       "    <tr>\n",
       "      <th>4</th>\n",
       "      <td>Brazil</td>\n",
       "      <td>209288000</td>\n",
       "      <td>2.055506e+06</td>\n",
       "    </tr>\n",
       "  </tbody>\n",
       "</table>\n",
       "</div>"
      ],
      "text/plain": [
       "         Country   Poblacion  Million Dolar\n",
       "0          China  1386395000   1.223770e+07\n",
       "1          India  1339180000   2.597491e+06\n",
       "2  United States   325719000   1.939060e+07\n",
       "3      Indonesia   263991000   1.015539e+06\n",
       "4         Brazil   209288000   2.055506e+06"
      ]
     },
     "execution_count": 48,
     "metadata": {},
     "output_type": "execute_result"
    }
   ],
   "source": [
    "union1.head()"
   ]
  },
  {
   "cell_type": "code",
   "execution_count": 49,
   "metadata": {},
   "outputs": [
    {
     "data": {
      "text/plain": [
       "(200, 3)"
      ]
     },
     "execution_count": 49,
     "metadata": {},
     "output_type": "execute_result"
    }
   ],
   "source": [
    "union1.shape"
   ]
  },
  {
   "cell_type": "code",
   "execution_count": 50,
   "metadata": {},
   "outputs": [],
   "source": [
    "union2 = union1.merge(bmi_mundial, left_on=\"Country\", right_on=\"Country\")"
   ]
  },
  {
   "cell_type": "code",
   "execution_count": 51,
   "metadata": {},
   "outputs": [
    {
     "data": {
      "text/html": [
       "<div>\n",
       "<style scoped>\n",
       "    .dataframe tbody tr th:only-of-type {\n",
       "        vertical-align: middle;\n",
       "    }\n",
       "\n",
       "    .dataframe tbody tr th {\n",
       "        vertical-align: top;\n",
       "    }\n",
       "\n",
       "    .dataframe thead th {\n",
       "        text-align: right;\n",
       "    }\n",
       "</style>\n",
       "<table border=\"1\" class=\"dataframe\">\n",
       "  <thead>\n",
       "    <tr style=\"text-align: right;\">\n",
       "      <th></th>\n",
       "      <th>Country</th>\n",
       "      <th>Poblacion</th>\n",
       "      <th>Million Dolar</th>\n",
       "      <th>Male mean</th>\n",
       "      <th>Female mean</th>\n",
       "    </tr>\n",
       "  </thead>\n",
       "  <tbody>\n",
       "    <tr>\n",
       "      <th>0</th>\n",
       "      <td>China</td>\n",
       "      <td>1386395000</td>\n",
       "      <td>1.223770e+07</td>\n",
       "      <td>24.2</td>\n",
       "      <td>23.6</td>\n",
       "    </tr>\n",
       "    <tr>\n",
       "      <th>1</th>\n",
       "      <td>India</td>\n",
       "      <td>1339180000</td>\n",
       "      <td>2.597491e+06</td>\n",
       "      <td>21.8</td>\n",
       "      <td>22.1</td>\n",
       "    </tr>\n",
       "    <tr>\n",
       "      <th>2</th>\n",
       "      <td>United States</td>\n",
       "      <td>325719000</td>\n",
       "      <td>1.939060e+07</td>\n",
       "      <td>28.8</td>\n",
       "      <td>28.8</td>\n",
       "    </tr>\n",
       "    <tr>\n",
       "      <th>3</th>\n",
       "      <td>Indonesia</td>\n",
       "      <td>263991000</td>\n",
       "      <td>1.015539e+06</td>\n",
       "      <td>22.4</td>\n",
       "      <td>23.4</td>\n",
       "    </tr>\n",
       "    <tr>\n",
       "      <th>4</th>\n",
       "      <td>Brazil</td>\n",
       "      <td>209288000</td>\n",
       "      <td>2.055506e+06</td>\n",
       "      <td>25.9</td>\n",
       "      <td>26</td>\n",
       "    </tr>\n",
       "  </tbody>\n",
       "</table>\n",
       "</div>"
      ],
      "text/plain": [
       "         Country   Poblacion  Million Dolar Male mean Female mean\n",
       "0          China  1386395000   1.223770e+07      24.2        23.6\n",
       "1          India  1339180000   2.597491e+06      21.8        22.1\n",
       "2  United States   325719000   1.939060e+07      28.8        28.8\n",
       "3      Indonesia   263991000   1.015539e+06      22.4        23.4\n",
       "4         Brazil   209288000   2.055506e+06      25.9          26"
      ]
     },
     "execution_count": 51,
     "metadata": {},
     "output_type": "execute_result"
    }
   ],
   "source": [
    "union2.head()"
   ]
  },
  {
   "cell_type": "code",
   "execution_count": 52,
   "metadata": {},
   "outputs": [
    {
     "data": {
      "text/plain": [
       "(174, 5)"
      ]
     },
     "execution_count": 52,
     "metadata": {},
     "output_type": "execute_result"
    }
   ],
   "source": [
    "union2.shape"
   ]
  },
  {
   "cell_type": "code",
   "execution_count": 1,
   "metadata": {},
   "outputs": [],
   "source": [
    "#hemos perdido algunos países ya que son de fuentes diferentes y algunos países cambia el nombre."
   ]
  },
  {
   "cell_type": "code",
   "execution_count": 54,
   "metadata": {
    "scrolled": false
   },
   "outputs": [
    {
     "data": {
      "text/plain": [
       "Country          0\n",
       "Poblacion        0\n",
       "Million Dolar    0\n",
       "Male mean        0\n",
       "Female mean      0\n",
       "dtype: int64"
      ]
     },
     "execution_count": 54,
     "metadata": {},
     "output_type": "execute_result"
    }
   ],
   "source": [
    "union2.isnull().sum()"
   ]
  },
  {
   "cell_type": "code",
   "execution_count": 55,
   "metadata": {
    "scrolled": true
   },
   "outputs": [
    {
     "data": {
      "text/plain": [
       "['Country', 'Poblacion', 'Million Dolar', 'Male mean', 'Female mean']"
      ]
     },
     "execution_count": 55,
     "metadata": {},
     "output_type": "execute_result"
    }
   ],
   "source": [
    "union2.columns.tolist()"
   ]
  },
  {
   "cell_type": "code",
   "execution_count": 56,
   "metadata": {},
   "outputs": [],
   "source": [
    "union2_rename = union2.rename(columns={\"Male mean\":\"Male\",\"Female mean\":\"Female\"})"
   ]
  },
  {
   "cell_type": "code",
   "execution_count": 57,
   "metadata": {},
   "outputs": [
    {
     "data": {
      "text/plain": [
       "['Country', 'Poblacion', 'Million Dolar', 'Male', 'Female']"
      ]
     },
     "execution_count": 57,
     "metadata": {},
     "output_type": "execute_result"
    }
   ],
   "source": [
    "union2_rename.columns.tolist()"
   ]
  },
  {
   "cell_type": "code",
   "execution_count": 58,
   "metadata": {},
   "outputs": [],
   "source": [
    "union2_rename.loc[:, \"BMI medio\"]=(0)"
   ]
  },
  {
   "cell_type": "code",
   "execution_count": 59,
   "metadata": {
    "scrolled": true
   },
   "outputs": [
    {
     "data": {
      "text/html": [
       "<div>\n",
       "<style scoped>\n",
       "    .dataframe tbody tr th:only-of-type {\n",
       "        vertical-align: middle;\n",
       "    }\n",
       "\n",
       "    .dataframe tbody tr th {\n",
       "        vertical-align: top;\n",
       "    }\n",
       "\n",
       "    .dataframe thead th {\n",
       "        text-align: right;\n",
       "    }\n",
       "</style>\n",
       "<table border=\"1\" class=\"dataframe\">\n",
       "  <thead>\n",
       "    <tr style=\"text-align: right;\">\n",
       "      <th></th>\n",
       "      <th>Country</th>\n",
       "      <th>Poblacion</th>\n",
       "      <th>Million Dolar</th>\n",
       "      <th>Male</th>\n",
       "      <th>Female</th>\n",
       "      <th>BMI medio</th>\n",
       "    </tr>\n",
       "  </thead>\n",
       "  <tbody>\n",
       "    <tr>\n",
       "      <th>0</th>\n",
       "      <td>China</td>\n",
       "      <td>1386395000</td>\n",
       "      <td>1.223770e+07</td>\n",
       "      <td>24.2</td>\n",
       "      <td>23.6</td>\n",
       "      <td>0</td>\n",
       "    </tr>\n",
       "    <tr>\n",
       "      <th>1</th>\n",
       "      <td>India</td>\n",
       "      <td>1339180000</td>\n",
       "      <td>2.597491e+06</td>\n",
       "      <td>21.8</td>\n",
       "      <td>22.1</td>\n",
       "      <td>0</td>\n",
       "    </tr>\n",
       "    <tr>\n",
       "      <th>2</th>\n",
       "      <td>United States</td>\n",
       "      <td>325719000</td>\n",
       "      <td>1.939060e+07</td>\n",
       "      <td>28.8</td>\n",
       "      <td>28.8</td>\n",
       "      <td>0</td>\n",
       "    </tr>\n",
       "    <tr>\n",
       "      <th>3</th>\n",
       "      <td>Indonesia</td>\n",
       "      <td>263991000</td>\n",
       "      <td>1.015539e+06</td>\n",
       "      <td>22.4</td>\n",
       "      <td>23.4</td>\n",
       "      <td>0</td>\n",
       "    </tr>\n",
       "    <tr>\n",
       "      <th>4</th>\n",
       "      <td>Brazil</td>\n",
       "      <td>209288000</td>\n",
       "      <td>2.055506e+06</td>\n",
       "      <td>25.9</td>\n",
       "      <td>26</td>\n",
       "      <td>0</td>\n",
       "    </tr>\n",
       "  </tbody>\n",
       "</table>\n",
       "</div>"
      ],
      "text/plain": [
       "         Country   Poblacion  Million Dolar  Male Female  BMI medio\n",
       "0          China  1386395000   1.223770e+07  24.2   23.6          0\n",
       "1          India  1339180000   2.597491e+06  21.8   22.1          0\n",
       "2  United States   325719000   1.939060e+07  28.8   28.8          0\n",
       "3      Indonesia   263991000   1.015539e+06  22.4   23.4          0\n",
       "4         Brazil   209288000   2.055506e+06  25.9     26          0"
      ]
     },
     "execution_count": 59,
     "metadata": {},
     "output_type": "execute_result"
    }
   ],
   "source": [
    "union2_rename.head()"
   ]
  },
  {
   "cell_type": "code",
   "execution_count": 60,
   "metadata": {
    "scrolled": true
   },
   "outputs": [
    {
     "data": {
      "text/plain": [
       "Country           object\n",
       "Poblacion          int64\n",
       "Million Dolar    float64\n",
       "Male              object\n",
       "Female            object\n",
       "BMI medio          int64\n",
       "dtype: object"
      ]
     },
     "execution_count": 60,
     "metadata": {},
     "output_type": "execute_result"
    }
   ],
   "source": [
    "union2_rename.dtypes"
   ]
  },
  {
   "cell_type": "code",
   "execution_count": 61,
   "metadata": {
    "scrolled": false
   },
   "outputs": [
    {
     "name": "stderr",
     "output_type": "stream",
     "text": [
      "/home/dsc/anaconda3/lib/python3.6/site-packages/ipykernel_launcher.py:1: FutureWarning: convert_objects is deprecated.  To re-infer data dtypes for object columns, use Series.infer_objects()\n",
      "For all other conversions use the data-type specific converters pd.to_datetime, pd.to_timedelta and pd.to_numeric.\n",
      "  \"\"\"Entry point for launching an IPython kernel.\n"
     ]
    }
   ],
   "source": [
    "union2_rename[\"Male\"]= union2_rename.Male.convert_objects(convert_numeric=True)"
   ]
  },
  {
   "cell_type": "code",
   "execution_count": 62,
   "metadata": {},
   "outputs": [
    {
     "name": "stderr",
     "output_type": "stream",
     "text": [
      "/home/dsc/anaconda3/lib/python3.6/site-packages/ipykernel_launcher.py:1: FutureWarning: convert_objects is deprecated.  To re-infer data dtypes for object columns, use Series.infer_objects()\n",
      "For all other conversions use the data-type specific converters pd.to_datetime, pd.to_timedelta and pd.to_numeric.\n",
      "  \"\"\"Entry point for launching an IPython kernel.\n"
     ]
    }
   ],
   "source": [
    "union2_rename[\"Female\"]= union2_rename.Female.convert_objects(convert_numeric=True)"
   ]
  },
  {
   "cell_type": "code",
   "execution_count": 63,
   "metadata": {},
   "outputs": [
    {
     "data": {
      "text/plain": [
       "Country           object\n",
       "Poblacion          int64\n",
       "Million Dolar    float64\n",
       "Male             float64\n",
       "Female           float64\n",
       "BMI medio          int64\n",
       "dtype: object"
      ]
     },
     "execution_count": 63,
     "metadata": {},
     "output_type": "execute_result"
    }
   ],
   "source": [
    "union2_rename.dtypes"
   ]
  },
  {
   "cell_type": "code",
   "execution_count": 64,
   "metadata": {},
   "outputs": [
    {
     "data": {
      "text/html": [
       "<div>\n",
       "<style scoped>\n",
       "    .dataframe tbody tr th:only-of-type {\n",
       "        vertical-align: middle;\n",
       "    }\n",
       "\n",
       "    .dataframe tbody tr th {\n",
       "        vertical-align: top;\n",
       "    }\n",
       "\n",
       "    .dataframe thead th {\n",
       "        text-align: right;\n",
       "    }\n",
       "</style>\n",
       "<table border=\"1\" class=\"dataframe\">\n",
       "  <thead>\n",
       "    <tr style=\"text-align: right;\">\n",
       "      <th></th>\n",
       "      <th>Country</th>\n",
       "      <th>Poblacion</th>\n",
       "      <th>Million Dolar</th>\n",
       "      <th>Male</th>\n",
       "      <th>Female</th>\n",
       "      <th>BMI medio</th>\n",
       "    </tr>\n",
       "  </thead>\n",
       "  <tbody>\n",
       "    <tr>\n",
       "      <th>0</th>\n",
       "      <td>China</td>\n",
       "      <td>1386395000</td>\n",
       "      <td>1.223770e+07</td>\n",
       "      <td>24.2</td>\n",
       "      <td>23.6</td>\n",
       "      <td>23.90</td>\n",
       "    </tr>\n",
       "    <tr>\n",
       "      <th>1</th>\n",
       "      <td>India</td>\n",
       "      <td>1339180000</td>\n",
       "      <td>2.597491e+06</td>\n",
       "      <td>21.8</td>\n",
       "      <td>22.1</td>\n",
       "      <td>21.95</td>\n",
       "    </tr>\n",
       "    <tr>\n",
       "      <th>2</th>\n",
       "      <td>United States</td>\n",
       "      <td>325719000</td>\n",
       "      <td>1.939060e+07</td>\n",
       "      <td>28.8</td>\n",
       "      <td>28.8</td>\n",
       "      <td>28.80</td>\n",
       "    </tr>\n",
       "    <tr>\n",
       "      <th>3</th>\n",
       "      <td>Indonesia</td>\n",
       "      <td>263991000</td>\n",
       "      <td>1.015539e+06</td>\n",
       "      <td>22.4</td>\n",
       "      <td>23.4</td>\n",
       "      <td>22.90</td>\n",
       "    </tr>\n",
       "    <tr>\n",
       "      <th>4</th>\n",
       "      <td>Brazil</td>\n",
       "      <td>209288000</td>\n",
       "      <td>2.055506e+06</td>\n",
       "      <td>25.9</td>\n",
       "      <td>26.0</td>\n",
       "      <td>25.95</td>\n",
       "    </tr>\n",
       "  </tbody>\n",
       "</table>\n",
       "</div>"
      ],
      "text/plain": [
       "         Country   Poblacion  Million Dolar  Male  Female  BMI medio\n",
       "0          China  1386395000   1.223770e+07  24.2    23.6      23.90\n",
       "1          India  1339180000   2.597491e+06  21.8    22.1      21.95\n",
       "2  United States   325719000   1.939060e+07  28.8    28.8      28.80\n",
       "3      Indonesia   263991000   1.015539e+06  22.4    23.4      22.90\n",
       "4         Brazil   209288000   2.055506e+06  25.9    26.0      25.95"
      ]
     },
     "execution_count": 64,
     "metadata": {},
     "output_type": "execute_result"
    }
   ],
   "source": [
    "union2_rename[\"BMI medio\"] = (union2_rename[\"Male\"] + union2_rename[\"Female\"])/2\n",
    "union2_rename.head()"
   ]
  },
  {
   "cell_type": "code",
   "execution_count": null,
   "metadata": {},
   "outputs": [],
   "source": []
  },
  {
   "cell_type": "code",
   "execution_count": 65,
   "metadata": {},
   "outputs": [],
   "source": [
    "#para poderlo comparar más justamente voy a crear una columna pib del país por habitante."
   ]
  },
  {
   "cell_type": "code",
   "execution_count": 66,
   "metadata": {},
   "outputs": [
    {
     "data": {
      "text/html": [
       "<div>\n",
       "<style scoped>\n",
       "    .dataframe tbody tr th:only-of-type {\n",
       "        vertical-align: middle;\n",
       "    }\n",
       "\n",
       "    .dataframe tbody tr th {\n",
       "        vertical-align: top;\n",
       "    }\n",
       "\n",
       "    .dataframe thead th {\n",
       "        text-align: right;\n",
       "    }\n",
       "</style>\n",
       "<table border=\"1\" class=\"dataframe\">\n",
       "  <thead>\n",
       "    <tr style=\"text-align: right;\">\n",
       "      <th></th>\n",
       "      <th>Country</th>\n",
       "      <th>Poblacion</th>\n",
       "      <th>Million Dolar</th>\n",
       "      <th>Male</th>\n",
       "      <th>Female</th>\n",
       "      <th>BMI medio</th>\n",
       "      <th>pib/poblacion</th>\n",
       "    </tr>\n",
       "  </thead>\n",
       "  <tbody>\n",
       "    <tr>\n",
       "      <th>0</th>\n",
       "      <td>China</td>\n",
       "      <td>1386395000</td>\n",
       "      <td>1.223770e+07</td>\n",
       "      <td>24.2</td>\n",
       "      <td>23.6</td>\n",
       "      <td>23.90</td>\n",
       "      <td>0</td>\n",
       "    </tr>\n",
       "    <tr>\n",
       "      <th>1</th>\n",
       "      <td>India</td>\n",
       "      <td>1339180000</td>\n",
       "      <td>2.597491e+06</td>\n",
       "      <td>21.8</td>\n",
       "      <td>22.1</td>\n",
       "      <td>21.95</td>\n",
       "      <td>0</td>\n",
       "    </tr>\n",
       "    <tr>\n",
       "      <th>2</th>\n",
       "      <td>United States</td>\n",
       "      <td>325719000</td>\n",
       "      <td>1.939060e+07</td>\n",
       "      <td>28.8</td>\n",
       "      <td>28.8</td>\n",
       "      <td>28.80</td>\n",
       "      <td>0</td>\n",
       "    </tr>\n",
       "    <tr>\n",
       "      <th>3</th>\n",
       "      <td>Indonesia</td>\n",
       "      <td>263991000</td>\n",
       "      <td>1.015539e+06</td>\n",
       "      <td>22.4</td>\n",
       "      <td>23.4</td>\n",
       "      <td>22.90</td>\n",
       "      <td>0</td>\n",
       "    </tr>\n",
       "    <tr>\n",
       "      <th>4</th>\n",
       "      <td>Brazil</td>\n",
       "      <td>209288000</td>\n",
       "      <td>2.055506e+06</td>\n",
       "      <td>25.9</td>\n",
       "      <td>26.0</td>\n",
       "      <td>25.95</td>\n",
       "      <td>0</td>\n",
       "    </tr>\n",
       "  </tbody>\n",
       "</table>\n",
       "</div>"
      ],
      "text/plain": [
       "         Country   Poblacion  Million Dolar  Male  Female  BMI medio  \\\n",
       "0          China  1386395000   1.223770e+07  24.2    23.6      23.90   \n",
       "1          India  1339180000   2.597491e+06  21.8    22.1      21.95   \n",
       "2  United States   325719000   1.939060e+07  28.8    28.8      28.80   \n",
       "3      Indonesia   263991000   1.015539e+06  22.4    23.4      22.90   \n",
       "4         Brazil   209288000   2.055506e+06  25.9    26.0      25.95   \n",
       "\n",
       "   pib/poblacion  \n",
       "0              0  \n",
       "1              0  \n",
       "2              0  \n",
       "3              0  \n",
       "4              0  "
      ]
     },
     "execution_count": 66,
     "metadata": {},
     "output_type": "execute_result"
    }
   ],
   "source": [
    "union2_rename.loc[:, \"pib/poblacion\"] = 0\n",
    "union2_rename.head()"
   ]
  },
  {
   "cell_type": "code",
   "execution_count": 67,
   "metadata": {},
   "outputs": [],
   "source": [
    "union2_rename[\"pib/poblacion\"] = union2_rename[\"Million Dolar\"]/union2_rename[\"Poblacion\"]"
   ]
  },
  {
   "cell_type": "code",
   "execution_count": 68,
   "metadata": {},
   "outputs": [
    {
     "data": {
      "text/html": [
       "<div>\n",
       "<style scoped>\n",
       "    .dataframe tbody tr th:only-of-type {\n",
       "        vertical-align: middle;\n",
       "    }\n",
       "\n",
       "    .dataframe tbody tr th {\n",
       "        vertical-align: top;\n",
       "    }\n",
       "\n",
       "    .dataframe thead th {\n",
       "        text-align: right;\n",
       "    }\n",
       "</style>\n",
       "<table border=\"1\" class=\"dataframe\">\n",
       "  <thead>\n",
       "    <tr style=\"text-align: right;\">\n",
       "      <th></th>\n",
       "      <th>Country</th>\n",
       "      <th>Poblacion</th>\n",
       "      <th>Million Dolar</th>\n",
       "      <th>Male</th>\n",
       "      <th>Female</th>\n",
       "      <th>BMI medio</th>\n",
       "      <th>pib/poblacion</th>\n",
       "    </tr>\n",
       "  </thead>\n",
       "  <tbody>\n",
       "    <tr>\n",
       "      <th>0</th>\n",
       "      <td>China</td>\n",
       "      <td>1386395000</td>\n",
       "      <td>1.223770e+07</td>\n",
       "      <td>24.2</td>\n",
       "      <td>23.6</td>\n",
       "      <td>23.90</td>\n",
       "      <td>0.008827</td>\n",
       "    </tr>\n",
       "    <tr>\n",
       "      <th>1</th>\n",
       "      <td>India</td>\n",
       "      <td>1339180000</td>\n",
       "      <td>2.597491e+06</td>\n",
       "      <td>21.8</td>\n",
       "      <td>22.1</td>\n",
       "      <td>21.95</td>\n",
       "      <td>0.001940</td>\n",
       "    </tr>\n",
       "    <tr>\n",
       "      <th>2</th>\n",
       "      <td>United States</td>\n",
       "      <td>325719000</td>\n",
       "      <td>1.939060e+07</td>\n",
       "      <td>28.8</td>\n",
       "      <td>28.8</td>\n",
       "      <td>28.80</td>\n",
       "      <td>0.059532</td>\n",
       "    </tr>\n",
       "    <tr>\n",
       "      <th>3</th>\n",
       "      <td>Indonesia</td>\n",
       "      <td>263991000</td>\n",
       "      <td>1.015539e+06</td>\n",
       "      <td>22.4</td>\n",
       "      <td>23.4</td>\n",
       "      <td>22.90</td>\n",
       "      <td>0.003847</td>\n",
       "    </tr>\n",
       "    <tr>\n",
       "      <th>4</th>\n",
       "      <td>Brazil</td>\n",
       "      <td>209288000</td>\n",
       "      <td>2.055506e+06</td>\n",
       "      <td>25.9</td>\n",
       "      <td>26.0</td>\n",
       "      <td>25.95</td>\n",
       "      <td>0.009821</td>\n",
       "    </tr>\n",
       "  </tbody>\n",
       "</table>\n",
       "</div>"
      ],
      "text/plain": [
       "         Country   Poblacion  Million Dolar  Male  Female  BMI medio  \\\n",
       "0          China  1386395000   1.223770e+07  24.2    23.6      23.90   \n",
       "1          India  1339180000   2.597491e+06  21.8    22.1      21.95   \n",
       "2  United States   325719000   1.939060e+07  28.8    28.8      28.80   \n",
       "3      Indonesia   263991000   1.015539e+06  22.4    23.4      22.90   \n",
       "4         Brazil   209288000   2.055506e+06  25.9    26.0      25.95   \n",
       "\n",
       "   pib/poblacion  \n",
       "0       0.008827  \n",
       "1       0.001940  \n",
       "2       0.059532  \n",
       "3       0.003847  \n",
       "4       0.009821  "
      ]
     },
     "execution_count": 68,
     "metadata": {},
     "output_type": "execute_result"
    }
   ],
   "source": [
    "union2_rename.head()"
   ]
  },
  {
   "cell_type": "code",
   "execution_count": 69,
   "metadata": {},
   "outputs": [],
   "source": [
    "pib_bmi = union2_rename"
   ]
  },
  {
   "cell_type": "code",
   "execution_count": 70,
   "metadata": {},
   "outputs": [
    {
     "data": {
      "text/html": [
       "<div>\n",
       "<style scoped>\n",
       "    .dataframe tbody tr th:only-of-type {\n",
       "        vertical-align: middle;\n",
       "    }\n",
       "\n",
       "    .dataframe tbody tr th {\n",
       "        vertical-align: top;\n",
       "    }\n",
       "\n",
       "    .dataframe thead th {\n",
       "        text-align: right;\n",
       "    }\n",
       "</style>\n",
       "<table border=\"1\" class=\"dataframe\">\n",
       "  <thead>\n",
       "    <tr style=\"text-align: right;\">\n",
       "      <th></th>\n",
       "      <th>Country</th>\n",
       "      <th>Poblacion</th>\n",
       "      <th>Million Dolar</th>\n",
       "      <th>Male</th>\n",
       "      <th>Female</th>\n",
       "      <th>BMI medio</th>\n",
       "      <th>pib/poblacion</th>\n",
       "    </tr>\n",
       "  </thead>\n",
       "  <tbody>\n",
       "    <tr>\n",
       "      <th>0</th>\n",
       "      <td>China</td>\n",
       "      <td>1386395000</td>\n",
       "      <td>1.223770e+07</td>\n",
       "      <td>24.2</td>\n",
       "      <td>23.6</td>\n",
       "      <td>23.90</td>\n",
       "      <td>0.008827</td>\n",
       "    </tr>\n",
       "    <tr>\n",
       "      <th>1</th>\n",
       "      <td>India</td>\n",
       "      <td>1339180000</td>\n",
       "      <td>2.597491e+06</td>\n",
       "      <td>21.8</td>\n",
       "      <td>22.1</td>\n",
       "      <td>21.95</td>\n",
       "      <td>0.001940</td>\n",
       "    </tr>\n",
       "    <tr>\n",
       "      <th>2</th>\n",
       "      <td>United States</td>\n",
       "      <td>325719000</td>\n",
       "      <td>1.939060e+07</td>\n",
       "      <td>28.8</td>\n",
       "      <td>28.8</td>\n",
       "      <td>28.80</td>\n",
       "      <td>0.059532</td>\n",
       "    </tr>\n",
       "    <tr>\n",
       "      <th>3</th>\n",
       "      <td>Indonesia</td>\n",
       "      <td>263991000</td>\n",
       "      <td>1.015539e+06</td>\n",
       "      <td>22.4</td>\n",
       "      <td>23.4</td>\n",
       "      <td>22.90</td>\n",
       "      <td>0.003847</td>\n",
       "    </tr>\n",
       "    <tr>\n",
       "      <th>4</th>\n",
       "      <td>Brazil</td>\n",
       "      <td>209288000</td>\n",
       "      <td>2.055506e+06</td>\n",
       "      <td>25.9</td>\n",
       "      <td>26.0</td>\n",
       "      <td>25.95</td>\n",
       "      <td>0.009821</td>\n",
       "    </tr>\n",
       "  </tbody>\n",
       "</table>\n",
       "</div>"
      ],
      "text/plain": [
       "         Country   Poblacion  Million Dolar  Male  Female  BMI medio  \\\n",
       "0          China  1386395000   1.223770e+07  24.2    23.6      23.90   \n",
       "1          India  1339180000   2.597491e+06  21.8    22.1      21.95   \n",
       "2  United States   325719000   1.939060e+07  28.8    28.8      28.80   \n",
       "3      Indonesia   263991000   1.015539e+06  22.4    23.4      22.90   \n",
       "4         Brazil   209288000   2.055506e+06  25.9    26.0      25.95   \n",
       "\n",
       "   pib/poblacion  \n",
       "0       0.008827  \n",
       "1       0.001940  \n",
       "2       0.059532  \n",
       "3       0.003847  \n",
       "4       0.009821  "
      ]
     },
     "execution_count": 70,
     "metadata": {},
     "output_type": "execute_result"
    }
   ],
   "source": [
    "pib_bmi.head()"
   ]
  },
  {
   "cell_type": "code",
   "execution_count": 71,
   "metadata": {},
   "outputs": [
    {
     "data": {
      "text/html": [
       "<div>\n",
       "<style scoped>\n",
       "    .dataframe tbody tr th:only-of-type {\n",
       "        vertical-align: middle;\n",
       "    }\n",
       "\n",
       "    .dataframe tbody tr th {\n",
       "        vertical-align: top;\n",
       "    }\n",
       "\n",
       "    .dataframe thead th {\n",
       "        text-align: right;\n",
       "    }\n",
       "</style>\n",
       "<table border=\"1\" class=\"dataframe\">\n",
       "  <thead>\n",
       "    <tr style=\"text-align: right;\">\n",
       "      <th></th>\n",
       "      <th>Country</th>\n",
       "      <th>Poblacion</th>\n",
       "      <th>Million Dolar</th>\n",
       "      <th>Male</th>\n",
       "      <th>Female</th>\n",
       "      <th>BMI medio</th>\n",
       "      <th>pib/poblacion</th>\n",
       "    </tr>\n",
       "  </thead>\n",
       "  <tbody>\n",
       "    <tr>\n",
       "      <th>169</th>\n",
       "      <td>Liechtenstein</td>\n",
       "      <td>38000</td>\n",
       "      <td>6289.165410</td>\n",
       "      <td>NaN</td>\n",
       "      <td>NaN</td>\n",
       "      <td>NaN</td>\n",
       "      <td>0.165504</td>\n",
       "    </tr>\n",
       "    <tr>\n",
       "      <th>170</th>\n",
       "      <td>San Marino</td>\n",
       "      <td>33000</td>\n",
       "      <td>1658.778454</td>\n",
       "      <td>NaN</td>\n",
       "      <td>NaN</td>\n",
       "      <td>NaN</td>\n",
       "      <td>0.050266</td>\n",
       "    </tr>\n",
       "    <tr>\n",
       "      <th>171</th>\n",
       "      <td>Palau</td>\n",
       "      <td>22000</td>\n",
       "      <td>291.544300</td>\n",
       "      <td>29.4</td>\n",
       "      <td>29.5</td>\n",
       "      <td>29.45</td>\n",
       "      <td>0.013252</td>\n",
       "    </tr>\n",
       "    <tr>\n",
       "      <th>172</th>\n",
       "      <td>Nauru</td>\n",
       "      <td>14000</td>\n",
       "      <td>113.884908</td>\n",
       "      <td>32.1</td>\n",
       "      <td>32.8</td>\n",
       "      <td>32.45</td>\n",
       "      <td>0.008135</td>\n",
       "    </tr>\n",
       "    <tr>\n",
       "      <th>173</th>\n",
       "      <td>Tuvalu</td>\n",
       "      <td>11000</td>\n",
       "      <td>39.731317</td>\n",
       "      <td>28.7</td>\n",
       "      <td>29.9</td>\n",
       "      <td>29.30</td>\n",
       "      <td>0.003612</td>\n",
       "    </tr>\n",
       "  </tbody>\n",
       "</table>\n",
       "</div>"
      ],
      "text/plain": [
       "           Country  Poblacion  Million Dolar  Male  Female  BMI medio  \\\n",
       "169  Liechtenstein      38000    6289.165410   NaN     NaN        NaN   \n",
       "170     San Marino      33000    1658.778454   NaN     NaN        NaN   \n",
       "171          Palau      22000     291.544300  29.4    29.5      29.45   \n",
       "172          Nauru      14000     113.884908  32.1    32.8      32.45   \n",
       "173         Tuvalu      11000      39.731317  28.7    29.9      29.30   \n",
       "\n",
       "     pib/poblacion  \n",
       "169       0.165504  \n",
       "170       0.050266  \n",
       "171       0.013252  \n",
       "172       0.008135  \n",
       "173       0.003612  "
      ]
     },
     "execution_count": 71,
     "metadata": {},
     "output_type": "execute_result"
    }
   ],
   "source": [
    "pib_bmi.tail()"
   ]
  },
  {
   "cell_type": "code",
   "execution_count": 72,
   "metadata": {},
   "outputs": [],
   "source": [
    "#vamos a guardarlo en un Excel para abrirlo con tableau."
   ]
  },
  {
   "cell_type": "code",
   "execution_count": 73,
   "metadata": {},
   "outputs": [],
   "source": [
    "from pandas import ExcelWriter"
   ]
  },
  {
   "cell_type": "code",
   "execution_count": 74,
   "metadata": {
    "scrolled": true
   },
   "outputs": [],
   "source": [
    "writer = ExcelWriter(path_to_zips + \"/imc_vs_pib.xlsx\")"
   ]
  },
  {
   "cell_type": "code",
   "execution_count": 75,
   "metadata": {},
   "outputs": [],
   "source": [
    "pib_bmi.to_excel(writer, 'Hoja de datos', index=False)"
   ]
  },
  {
   "cell_type": "code",
   "execution_count": 76,
   "metadata": {},
   "outputs": [],
   "source": [
    "writer.save()"
   ]
  },
  {
   "cell_type": "code",
   "execution_count": null,
   "metadata": {},
   "outputs": [],
   "source": []
  },
  {
   "cell_type": "code",
   "execution_count": 77,
   "metadata": {},
   "outputs": [],
   "source": [
    "#contador de país. "
   ]
  },
  {
   "cell_type": "code",
   "execution_count": 78,
   "metadata": {},
   "outputs": [],
   "source": [
    "lista_imc = pib_bmi[\"BMI medio\"].tolist()"
   ]
  },
  {
   "cell_type": "code",
   "execution_count": 79,
   "metadata": {
    "scrolled": false
   },
   "outputs": [
    {
     "data": {
      "text/plain": [
       "[23.9, 21.950000000000003, 28.8, 22.9, 25.95]"
      ]
     },
     "execution_count": 79,
     "metadata": {},
     "output_type": "execute_result"
    }
   ],
   "source": [
    "lista_imc[:5]"
   ]
  },
  {
   "cell_type": "code",
   "execution_count": 80,
   "metadata": {},
   "outputs": [
    {
     "data": {
      "text/plain": [
       "list"
      ]
     },
     "execution_count": 80,
     "metadata": {},
     "output_type": "execute_result"
    }
   ],
   "source": [
    "type(lista_imc)"
   ]
  },
  {
   "cell_type": "code",
   "execution_count": 81,
   "metadata": {},
   "outputs": [],
   "source": [
    "def contador_imc (lista):\n",
    "    Insuficiencia_Ponderal = 0\n",
    "    Normal = 0\n",
    "    Sobrepeso = 0\n",
    "    Obesidad_I = 0\n",
    "    \n",
    "    for x in lista:\n",
    "    \n",
    "        if x<=18.4:\n",
    "            Insuficiencia_Ponderal += +1\n",
    "        elif x>=18.5 and x <=24.9:\n",
    "            Normal += 1\n",
    "        elif x >= 25 and x<=29.9:\n",
    "            Sobrepeso += 1\n",
    "        elif x>=30 and x <=34.9:\n",
    "            Obesidad_I += 1\n",
    "        \n",
    "    print(\"Insuficiencia_Ponderal\",Insuficiencia_Ponderal)\n",
    "    print(\"Normal\" , Normal)\n",
    "    print(\"Sobrepeso\", Sobrepeso)\n",
    "    print(\"Obesidad_I\", Obesidad_I)"
   ]
  },
  {
   "cell_type": "code",
   "execution_count": 82,
   "metadata": {
    "scrolled": false
   },
   "outputs": [
    {
     "name": "stdout",
     "output_type": "stream",
     "text": [
      "Insuficiencia_Ponderal 0\n",
      "Normal 55\n",
      "Sobrepeso 112\n",
      "Obesidad_I 4\n"
     ]
    }
   ],
   "source": [
    "contador_imc(lista_imc)"
   ]
  },
  {
   "cell_type": "code",
   "execution_count": 83,
   "metadata": {},
   "outputs": [],
   "source": [
    "#agrupar en pib por percentiles."
   ]
  },
  {
   "cell_type": "code",
   "execution_count": 84,
   "metadata": {},
   "outputs": [],
   "source": [
    "lista_pib = pib_bmi[\"pib/poblacion\"].tolist()"
   ]
  },
  {
   "cell_type": "code",
   "execution_count": 85,
   "metadata": {},
   "outputs": [
    {
     "data": {
      "text/plain": [
       "[0.008826994095748325,\n",
       " 0.0019396131684296881,\n",
       " 0.059531694497404204,\n",
       " 0.00384686984607998,\n",
       " 0.009821420732314944]"
      ]
     },
     "execution_count": 85,
     "metadata": {},
     "output_type": "execute_result"
    }
   ],
   "source": [
    "lista_pib[:5]"
   ]
  },
  {
   "cell_type": "code",
   "execution_count": 86,
   "metadata": {
    "scrolled": true
   },
   "outputs": [
    {
     "data": {
      "text/plain": [
       "list"
      ]
     },
     "execution_count": 86,
     "metadata": {},
     "output_type": "execute_result"
    }
   ],
   "source": [
    "type(lista_pib)"
   ]
  },
  {
   "cell_type": "code",
   "execution_count": 87,
   "metadata": {},
   "outputs": [
    {
     "data": {
      "text/plain": [
       "0.01434249590879123"
      ]
     },
     "execution_count": 87,
     "metadata": {},
     "output_type": "execute_result"
    }
   ],
   "source": [
    "np.mean(lista_pib)"
   ]
  },
  {
   "cell_type": "code",
   "execution_count": 88,
   "metadata": {},
   "outputs": [
    {
     "data": {
      "text/plain": [
       "0.00023092516724150124"
      ]
     },
     "execution_count": 88,
     "metadata": {},
     "output_type": "execute_result"
    }
   ],
   "source": [
    "np.min(lista_pib)"
   ]
  },
  {
   "cell_type": "code",
   "execution_count": 89,
   "metadata": {
    "scrolled": true
   },
   "outputs": [
    {
     "data": {
      "text/plain": [
       "0.1655043528831337"
      ]
     },
     "execution_count": 89,
     "metadata": {},
     "output_type": "execute_result"
    }
   ],
   "source": [
    "np.max(lista_pib)"
   ]
  },
  {
   "cell_type": "code",
   "execution_count": 90,
   "metadata": {
    "scrolled": true
   },
   "outputs": [
    {
     "data": {
      "text/plain": [
       "0.002499553870411676"
      ]
     },
     "execution_count": 90,
     "metadata": {},
     "output_type": "execute_result"
    }
   ],
   "source": [
    "np.percentile(lista_pib , 30)"
   ]
  },
  {
   "cell_type": "code",
   "execution_count": 91,
   "metadata": {},
   "outputs": [
    {
     "data": {
      "text/plain": [
       "0.005320975280020478"
      ]
     },
     "execution_count": 91,
     "metadata": {},
     "output_type": "execute_result"
    }
   ],
   "source": [
    "np.percentile(lista_pib , 50)"
   ]
  },
  {
   "cell_type": "code",
   "execution_count": 92,
   "metadata": {},
   "outputs": [
    {
     "data": {
      "text/plain": [
       "0.013256167101347527"
      ]
     },
     "execution_count": 92,
     "metadata": {},
     "output_type": "execute_result"
    }
   ],
   "source": [
    "np.percentile(lista_pib , 70)"
   ]
  },
  {
   "cell_type": "code",
   "execution_count": 93,
   "metadata": {},
   "outputs": [
    {
     "data": {
      "text/plain": [
       "0.04412615626114709"
      ]
     },
     "execution_count": 93,
     "metadata": {},
     "output_type": "execute_result"
    }
   ],
   "source": [
    "np.percentile(lista_pib , 90)"
   ]
  },
  {
   "cell_type": "code",
   "execution_count": 94,
   "metadata": {},
   "outputs": [],
   "source": [
    "ordenados = sorted(lista_pib)"
   ]
  },
  {
   "cell_type": "code",
   "execution_count": 95,
   "metadata": {},
   "outputs": [
    {
     "data": {
      "text/plain": [
       "[0.048222744557352884,\n",
       " 0.05026601375485758,\n",
       " 0.05344064940574066,\n",
       " 0.0537997915557165,\n",
       " 0.056303634108746795,\n",
       " 0.05771689850540628,\n",
       " 0.059531694497404204,\n",
       " 0.06351088282691171,\n",
       " 0.0693250446142875,\n",
       " 0.07011521987855161,\n",
       " 0.07550775397158974,\n",
       " 0.08018985788427262]"
      ]
     },
     "execution_count": 95,
     "metadata": {},
     "output_type": "execute_result"
    }
   ],
   "source": [
    "ordenados[160:172]"
   ]
  },
  {
   "cell_type": "code",
   "execution_count": 96,
   "metadata": {},
   "outputs": [
    {
     "data": {
      "text/plain": [
       "[0.00023092516724150124,\n",
       " 0.00032009408857479473,\n",
       " 0.0003384855327462587,\n",
       " 0.0003780664335114471,\n",
       " 0.0004157153906864741,\n",
       " 0.0004184184716043207,\n",
       " 0.00044972053523807833,\n",
       " 0.000456043956043956,\n",
       " 0.000457847319260622,\n",
       " 0.0004994403059960712]"
      ]
     },
     "execution_count": 96,
     "metadata": {},
     "output_type": "execute_result"
    }
   ],
   "source": [
    "ordenados[0:10]"
   ]
  },
  {
   "cell_type": "code",
   "execution_count": 97,
   "metadata": {},
   "outputs": [],
   "source": [
    "def contador_pib (lista):\n",
    "    Nivel_1 = 0\n",
    "    Nivel_2 = 0\n",
    "    Nivel_3 = 0\n",
    "    Nivel_4 = 0\n",
    "    \n",
    "    for x in lista:\n",
    "    \n",
    "        if x<=0.00249:\n",
    "            Nivel_1 += +1\n",
    "        elif x>=0.002491 and x <=0.00532:\n",
    "            Nivel_2 += 1\n",
    "        elif x >= 0.005321 and x<=0.0132:\n",
    "            Nivel_3 += 1\n",
    "        elif x>=0.0132:\n",
    "            Nivel_4 += 1\n",
    "        \n",
    "    print(\"Nivel_1\", Nivel_1)\n",
    "    print(\"Nivel_2\", Nivel_2)\n",
    "    print(\"Nivel_3\", Nivel_3)\n",
    "    print(\"Nivel_4\", Nivel_4)"
   ]
  },
  {
   "cell_type": "code",
   "execution_count": 98,
   "metadata": {
    "scrolled": true
   },
   "outputs": [
    {
     "name": "stdout",
     "output_type": "stream",
     "text": [
      "Nivel_1 52\n",
      "Nivel_2 35\n",
      "Nivel_3 34\n",
      "Nivel_4 53\n"
     ]
    }
   ],
   "source": [
    "contador_pib(lista_pib)"
   ]
  },
  {
   "cell_type": "code",
   "execution_count": 99,
   "metadata": {},
   "outputs": [],
   "source": [
    "#ahora vamos a modificarlo realmente para juntarlos por riqueza."
   ]
  },
  {
   "cell_type": "code",
   "execution_count": 100,
   "metadata": {},
   "outputs": [],
   "source": [
    "def contador_pib2 (lista):\n",
    "    Nivel_1 = 0\n",
    "    Nivel_2 = 0\n",
    "    Nivel_3 = 0\n",
    "    Nivel_4 = 0\n",
    "    Nivel_5 = 0\n",
    "    \n",
    "    for x in lista:\n",
    "    \n",
    "        if x<=0.0125:\n",
    "            Nivel_1 += +1\n",
    "        elif x>0.0125 and x <=0.025:\n",
    "            Nivel_2 += 1\n",
    "        elif x > 0.025 and x<=0.0375:\n",
    "            Nivel_3 += 1\n",
    "        elif x>0.0375 and x<=0.0675:\n",
    "            Nivel_4 += 1\n",
    "        elif x>0.0675:\n",
    "            Nivel_5 += 1\n",
    "        \n",
    "    print(\"Nivel_1\", Nivel_1)\n",
    "    print(\"Nivel_2\", Nivel_2)\n",
    "    print(\"Nivel_3\", Nivel_3)\n",
    "    print(\"Nivel_4\", Nivel_4)\n",
    "    print(\"Nivel_5\", Nivel_5)"
   ]
  },
  {
   "cell_type": "code",
   "execution_count": 101,
   "metadata": {},
   "outputs": [
    {
     "name": "stdout",
     "output_type": "stream",
     "text": [
      "Nivel_1 121\n",
      "Nivel_2 23\n",
      "Nivel_3 4\n",
      "Nivel_4 20\n",
      "Nivel_5 6\n"
     ]
    }
   ],
   "source": [
    "contador_pib2(lista_pib)"
   ]
  },
  {
   "cell_type": "code",
   "execution_count": 102,
   "metadata": {},
   "outputs": [],
   "source": [
    "#se puede comprobar con la riqueza esta repartida en pocos países."
   ]
  },
  {
   "cell_type": "code",
   "execution_count": 103,
   "metadata": {
    "scrolled": true
   },
   "outputs": [
    {
     "data": {
      "text/plain": [
       "(array([145.,  19.,   8.,   1.,   0.,   1.]),\n",
       " array([0.00023093, 0.0277765 , 0.05532207, 0.08286764, 0.11041321,\n",
       "        0.13795878, 0.16550435]),\n",
       " <a list of 6 Patch objects>)"
      ]
     },
     "execution_count": 103,
     "metadata": {},
     "output_type": "execute_result"
    },
    {
     "data": {
      "image/png": "[encoded data removed]",
      "text/plain": [
       "<Figure size 432x288 with 1 Axes>"
      ]
     },
     "metadata": {},
     "output_type": "display_data"
    }
   ],
   "source": [
    "plt.hist(lista_pib, bins=6)"
   ]
  },
  {
   "cell_type": "code",
   "execution_count": 104,
   "metadata": {},
   "outputs": [
    {
     "data": {
      "text/html": [
       "<div>\n",
       "<style scoped>\n",
       "    .dataframe tbody tr th:only-of-type {\n",
       "        vertical-align: middle;\n",
       "    }\n",
       "\n",
       "    .dataframe tbody tr th {\n",
       "        vertical-align: top;\n",
       "    }\n",
       "\n",
       "    .dataframe thead th {\n",
       "        text-align: right;\n",
       "    }\n",
       "</style>\n",
       "<table border=\"1\" class=\"dataframe\">\n",
       "  <thead>\n",
       "    <tr style=\"text-align: right;\">\n",
       "      <th></th>\n",
       "      <th>Country</th>\n",
       "      <th>Poblacion</th>\n",
       "      <th>Million Dolar</th>\n",
       "      <th>Male</th>\n",
       "      <th>Female</th>\n",
       "      <th>BMI medio</th>\n",
       "      <th>pib/poblacion</th>\n",
       "    </tr>\n",
       "  </thead>\n",
       "  <tbody>\n",
       "    <tr>\n",
       "      <th>0</th>\n",
       "      <td>China</td>\n",
       "      <td>1386395000</td>\n",
       "      <td>1.223770e+07</td>\n",
       "      <td>24.2</td>\n",
       "      <td>23.6</td>\n",
       "      <td>23.90</td>\n",
       "      <td>0.008827</td>\n",
       "    </tr>\n",
       "    <tr>\n",
       "      <th>1</th>\n",
       "      <td>India</td>\n",
       "      <td>1339180000</td>\n",
       "      <td>2.597491e+06</td>\n",
       "      <td>21.8</td>\n",
       "      <td>22.1</td>\n",
       "      <td>21.95</td>\n",
       "      <td>0.001940</td>\n",
       "    </tr>\n",
       "    <tr>\n",
       "      <th>2</th>\n",
       "      <td>United States</td>\n",
       "      <td>325719000</td>\n",
       "      <td>1.939060e+07</td>\n",
       "      <td>28.8</td>\n",
       "      <td>28.8</td>\n",
       "      <td>28.80</td>\n",
       "      <td>0.059532</td>\n",
       "    </tr>\n",
       "    <tr>\n",
       "      <th>3</th>\n",
       "      <td>Indonesia</td>\n",
       "      <td>263991000</td>\n",
       "      <td>1.015539e+06</td>\n",
       "      <td>22.4</td>\n",
       "      <td>23.4</td>\n",
       "      <td>22.90</td>\n",
       "      <td>0.003847</td>\n",
       "    </tr>\n",
       "    <tr>\n",
       "      <th>4</th>\n",
       "      <td>Brazil</td>\n",
       "      <td>209288000</td>\n",
       "      <td>2.055506e+06</td>\n",
       "      <td>25.9</td>\n",
       "      <td>26.0</td>\n",
       "      <td>25.95</td>\n",
       "      <td>0.009821</td>\n",
       "    </tr>\n",
       "  </tbody>\n",
       "</table>\n",
       "</div>"
      ],
      "text/plain": [
       "         Country   Poblacion  Million Dolar  Male  Female  BMI medio  \\\n",
       "0          China  1386395000   1.223770e+07  24.2    23.6      23.90   \n",
       "1          India  1339180000   2.597491e+06  21.8    22.1      21.95   \n",
       "2  United States   325719000   1.939060e+07  28.8    28.8      28.80   \n",
       "3      Indonesia   263991000   1.015539e+06  22.4    23.4      22.90   \n",
       "4         Brazil   209288000   2.055506e+06  25.9    26.0      25.95   \n",
       "\n",
       "   pib/poblacion  \n",
       "0       0.008827  \n",
       "1       0.001940  \n",
       "2       0.059532  \n",
       "3       0.003847  \n",
       "4       0.009821  "
      ]
     },
     "execution_count": 104,
     "metadata": {},
     "output_type": "execute_result"
    }
   ],
   "source": [
    "pib_bmi.head()"
   ]
  },
  {
   "cell_type": "code",
   "execution_count": 108,
   "metadata": {
    "scrolled": true
   },
   "outputs": [
    {
     "data": {
      "text/plain": [
       "<matplotlib.axes._subplots.AxesSubplot at 0x7f40c9a81160>"
      ]
     },
     "execution_count": 108,
     "metadata": {},
     "output_type": "execute_result"
    },
    {
     "data": {
      "image/png": "[encoded data removed]",
      "text/plain": [
       "<Figure size 432x288 with 1 Axes>"
      ]
     },
     "metadata": {},
     "output_type": "display_data"
    }
   ],
   "source": [
    "pib_bmi.plot(kind='scatter', x='BMI medio', y='pib/poblacion')"
   ]
  },
  {
   "cell_type": "code",
   "execution_count": null,
   "metadata": {},
   "outputs": [],
   "source": []
  },
  {
   "cell_type": "code",
   "execution_count": 109,
   "metadata": {},
   "outputs": [],
   "source": [
    "#vamos a intentar predecir si hay sobrepeso a traves poblacion y pib."
   ]
  },
  {
   "cell_type": "code",
   "execution_count": 110,
   "metadata": {},
   "outputs": [],
   "source": [
    "archivo_pib_bmi = \"imc_vs_pib.xlsx\""
   ]
  },
  {
   "cell_type": "code",
   "execution_count": 111,
   "metadata": {},
   "outputs": [],
   "source": [
    "df = pd.read_excel(path_to_zips + archivo_pib_bmi)"
   ]
  },
  {
   "cell_type": "code",
   "execution_count": 112,
   "metadata": {
    "scrolled": false
   },
   "outputs": [
    {
     "data": {
      "text/html": [
       "<div>\n",
       "<style scoped>\n",
       "    .dataframe tbody tr th:only-of-type {\n",
       "        vertical-align: middle;\n",
       "    }\n",
       "\n",
       "    .dataframe tbody tr th {\n",
       "        vertical-align: top;\n",
       "    }\n",
       "\n",
       "    .dataframe thead th {\n",
       "        text-align: right;\n",
       "    }\n",
       "</style>\n",
       "<table border=\"1\" class=\"dataframe\">\n",
       "  <thead>\n",
       "    <tr style=\"text-align: right;\">\n",
       "      <th></th>\n",
       "      <th>Country</th>\n",
       "      <th>Poblacion</th>\n",
       "      <th>Million Dolar</th>\n",
       "      <th>Male</th>\n",
       "      <th>Female</th>\n",
       "      <th>BMI medio</th>\n",
       "      <th>pib/poblacion</th>\n",
       "    </tr>\n",
       "  </thead>\n",
       "  <tbody>\n",
       "    <tr>\n",
       "      <th>0</th>\n",
       "      <td>China</td>\n",
       "      <td>1386395000</td>\n",
       "      <td>1.223770e+07</td>\n",
       "      <td>24.2</td>\n",
       "      <td>23.6</td>\n",
       "      <td>23.90</td>\n",
       "      <td>0.008827</td>\n",
       "    </tr>\n",
       "    <tr>\n",
       "      <th>1</th>\n",
       "      <td>India</td>\n",
       "      <td>1339180000</td>\n",
       "      <td>2.597491e+06</td>\n",
       "      <td>21.8</td>\n",
       "      <td>22.1</td>\n",
       "      <td>21.95</td>\n",
       "      <td>0.001940</td>\n",
       "    </tr>\n",
       "    <tr>\n",
       "      <th>2</th>\n",
       "      <td>United States</td>\n",
       "      <td>325719000</td>\n",
       "      <td>1.939060e+07</td>\n",
       "      <td>28.8</td>\n",
       "      <td>28.8</td>\n",
       "      <td>28.80</td>\n",
       "      <td>0.059532</td>\n",
       "    </tr>\n",
       "    <tr>\n",
       "      <th>3</th>\n",
       "      <td>Indonesia</td>\n",
       "      <td>263991000</td>\n",
       "      <td>1.015539e+06</td>\n",
       "      <td>22.4</td>\n",
       "      <td>23.4</td>\n",
       "      <td>22.90</td>\n",
       "      <td>0.003847</td>\n",
       "    </tr>\n",
       "    <tr>\n",
       "      <th>4</th>\n",
       "      <td>Brazil</td>\n",
       "      <td>209288000</td>\n",
       "      <td>2.055506e+06</td>\n",
       "      <td>25.9</td>\n",
       "      <td>26.0</td>\n",
       "      <td>25.95</td>\n",
       "      <td>0.009821</td>\n",
       "    </tr>\n",
       "  </tbody>\n",
       "</table>\n",
       "</div>"
      ],
      "text/plain": [
       "         Country   Poblacion  Million Dolar  Male  Female  BMI medio  \\\n",
       "0          China  1386395000   1.223770e+07  24.2    23.6      23.90   \n",
       "1          India  1339180000   2.597491e+06  21.8    22.1      21.95   \n",
       "2  United States   325719000   1.939060e+07  28.8    28.8      28.80   \n",
       "3      Indonesia   263991000   1.015539e+06  22.4    23.4      22.90   \n",
       "4         Brazil   209288000   2.055506e+06  25.9    26.0      25.95   \n",
       "\n",
       "   pib/poblacion  \n",
       "0       0.008827  \n",
       "1       0.001940  \n",
       "2       0.059532  \n",
       "3       0.003847  \n",
       "4       0.009821  "
      ]
     },
     "execution_count": 112,
     "metadata": {},
     "output_type": "execute_result"
    }
   ],
   "source": [
    "df.head()"
   ]
  },
  {
   "cell_type": "code",
   "execution_count": 113,
   "metadata": {},
   "outputs": [
    {
     "data": {
      "text/plain": [
       "Country          0\n",
       "Poblacion        0\n",
       "Million Dolar    0\n",
       "Male             3\n",
       "Female           3\n",
       "BMI medio        3\n",
       "pib/poblacion    0\n",
       "dtype: int64"
      ]
     },
     "execution_count": 113,
     "metadata": {},
     "output_type": "execute_result"
    }
   ],
   "source": [
    "df.isnull().sum()"
   ]
  },
  {
   "cell_type": "code",
   "execution_count": 114,
   "metadata": {},
   "outputs": [],
   "source": [
    "df2 = df.dropna()"
   ]
  },
  {
   "cell_type": "code",
   "execution_count": 115,
   "metadata": {
    "scrolled": false
   },
   "outputs": [
    {
     "data": {
      "text/plain": [
       "Country          0\n",
       "Poblacion        0\n",
       "Million Dolar    0\n",
       "Male             0\n",
       "Female           0\n",
       "BMI medio        0\n",
       "pib/poblacion    0\n",
       "dtype: int64"
      ]
     },
     "execution_count": 115,
     "metadata": {},
     "output_type": "execute_result"
    }
   ],
   "source": [
    "df2.isnull().sum()"
   ]
  },
  {
   "cell_type": "code",
   "execution_count": 116,
   "metadata": {
    "scrolled": true
   },
   "outputs": [
    {
     "name": "stderr",
     "output_type": "stream",
     "text": [
      "/home/dsc/anaconda3/lib/python3.6/site-packages/pandas/core/indexing.py:362: SettingWithCopyWarning: \n",
      "A value is trying to be set on a copy of a slice from a DataFrame.\n",
      "Try using .loc[row_indexer,col_indexer] = value instead\n",
      "\n",
      "See the caveats in the documentation: http://pandas.pydata.org/pandas-docs/stable/indexing.html#indexing-view-versus-copy\n",
      "  self.obj[key] = _infer_fill_value(value)\n",
      "/home/dsc/anaconda3/lib/python3.6/site-packages/pandas/core/indexing.py:543: SettingWithCopyWarning: \n",
      "A value is trying to be set on a copy of a slice from a DataFrame.\n",
      "Try using .loc[row_indexer,col_indexer] = value instead\n",
      "\n",
      "See the caveats in the documentation: http://pandas.pydata.org/pandas-docs/stable/indexing.html#indexing-view-versus-copy\n",
      "  self.obj[item] = s\n"
     ]
    },
    {
     "data": {
      "text/html": [
       "<div>\n",
       "<style scoped>\n",
       "    .dataframe tbody tr th:only-of-type {\n",
       "        vertical-align: middle;\n",
       "    }\n",
       "\n",
       "    .dataframe tbody tr th {\n",
       "        vertical-align: top;\n",
       "    }\n",
       "\n",
       "    .dataframe thead th {\n",
       "        text-align: right;\n",
       "    }\n",
       "</style>\n",
       "<table border=\"1\" class=\"dataframe\">\n",
       "  <thead>\n",
       "    <tr style=\"text-align: right;\">\n",
       "      <th></th>\n",
       "      <th>Country</th>\n",
       "      <th>Poblacion</th>\n",
       "      <th>Million Dolar</th>\n",
       "      <th>Male</th>\n",
       "      <th>Female</th>\n",
       "      <th>BMI medio</th>\n",
       "      <th>pib/poblacion</th>\n",
       "      <th>Sobrepeso</th>\n",
       "    </tr>\n",
       "  </thead>\n",
       "  <tbody>\n",
       "    <tr>\n",
       "      <th>0</th>\n",
       "      <td>China</td>\n",
       "      <td>1386395000</td>\n",
       "      <td>1.223770e+07</td>\n",
       "      <td>24.2</td>\n",
       "      <td>23.6</td>\n",
       "      <td>23.90</td>\n",
       "      <td>0.008827</td>\n",
       "      <td>0</td>\n",
       "    </tr>\n",
       "    <tr>\n",
       "      <th>1</th>\n",
       "      <td>India</td>\n",
       "      <td>1339180000</td>\n",
       "      <td>2.597491e+06</td>\n",
       "      <td>21.8</td>\n",
       "      <td>22.1</td>\n",
       "      <td>21.95</td>\n",
       "      <td>0.001940</td>\n",
       "      <td>0</td>\n",
       "    </tr>\n",
       "    <tr>\n",
       "      <th>2</th>\n",
       "      <td>United States</td>\n",
       "      <td>325719000</td>\n",
       "      <td>1.939060e+07</td>\n",
       "      <td>28.8</td>\n",
       "      <td>28.8</td>\n",
       "      <td>28.80</td>\n",
       "      <td>0.059532</td>\n",
       "      <td>0</td>\n",
       "    </tr>\n",
       "    <tr>\n",
       "      <th>3</th>\n",
       "      <td>Indonesia</td>\n",
       "      <td>263991000</td>\n",
       "      <td>1.015539e+06</td>\n",
       "      <td>22.4</td>\n",
       "      <td>23.4</td>\n",
       "      <td>22.90</td>\n",
       "      <td>0.003847</td>\n",
       "      <td>0</td>\n",
       "    </tr>\n",
       "    <tr>\n",
       "      <th>4</th>\n",
       "      <td>Brazil</td>\n",
       "      <td>209288000</td>\n",
       "      <td>2.055506e+06</td>\n",
       "      <td>25.9</td>\n",
       "      <td>26.0</td>\n",
       "      <td>25.95</td>\n",
       "      <td>0.009821</td>\n",
       "      <td>0</td>\n",
       "    </tr>\n",
       "  </tbody>\n",
       "</table>\n",
       "</div>"
      ],
      "text/plain": [
       "         Country   Poblacion  Million Dolar  Male  Female  BMI medio  \\\n",
       "0          China  1386395000   1.223770e+07  24.2    23.6      23.90   \n",
       "1          India  1339180000   2.597491e+06  21.8    22.1      21.95   \n",
       "2  United States   325719000   1.939060e+07  28.8    28.8      28.80   \n",
       "3      Indonesia   263991000   1.015539e+06  22.4    23.4      22.90   \n",
       "4         Brazil   209288000   2.055506e+06  25.9    26.0      25.95   \n",
       "\n",
       "   pib/poblacion  Sobrepeso  \n",
       "0       0.008827          0  \n",
       "1       0.001940          0  \n",
       "2       0.059532          0  \n",
       "3       0.003847          0  \n",
       "4       0.009821          0  "
      ]
     },
     "execution_count": 116,
     "metadata": {},
     "output_type": "execute_result"
    }
   ],
   "source": [
    "df2.loc[:,\"Sobrepeso\"] = 0\n",
    "df2.head()"
   ]
  },
  {
   "cell_type": "code",
   "execution_count": 117,
   "metadata": {
    "scrolled": false
   },
   "outputs": [
    {
     "name": "stderr",
     "output_type": "stream",
     "text": [
      "/home/dsc/anaconda3/lib/python3.6/site-packages/ipykernel_launcher.py:1: SettingWithCopyWarning: \n",
      "A value is trying to be set on a copy of a slice from a DataFrame.\n",
      "Try using .loc[row_indexer,col_indexer] = value instead\n",
      "\n",
      "See the caveats in the documentation: http://pandas.pydata.org/pandas-docs/stable/indexing.html#indexing-view-versus-copy\n",
      "  \"\"\"Entry point for launching an IPython kernel.\n"
     ]
    }
   ],
   "source": [
    "df2[\"Sobrepeso\"] = [1 if x>=25 else 0 for x in df2[\"BMI medio\"]]"
   ]
  },
  {
   "cell_type": "code",
   "execution_count": 118,
   "metadata": {
    "scrolled": false
   },
   "outputs": [
    {
     "data": {
      "text/html": [
       "<div>\n",
       "<style scoped>\n",
       "    .dataframe tbody tr th:only-of-type {\n",
       "        vertical-align: middle;\n",
       "    }\n",
       "\n",
       "    .dataframe tbody tr th {\n",
       "        vertical-align: top;\n",
       "    }\n",
       "\n",
       "    .dataframe thead th {\n",
       "        text-align: right;\n",
       "    }\n",
       "</style>\n",
       "<table border=\"1\" class=\"dataframe\">\n",
       "  <thead>\n",
       "    <tr style=\"text-align: right;\">\n",
       "      <th></th>\n",
       "      <th>Country</th>\n",
       "      <th>Poblacion</th>\n",
       "      <th>Million Dolar</th>\n",
       "      <th>Male</th>\n",
       "      <th>Female</th>\n",
       "      <th>BMI medio</th>\n",
       "      <th>pib/poblacion</th>\n",
       "      <th>Sobrepeso</th>\n",
       "    </tr>\n",
       "  </thead>\n",
       "  <tbody>\n",
       "    <tr>\n",
       "      <th>0</th>\n",
       "      <td>China</td>\n",
       "      <td>1386395000</td>\n",
       "      <td>1.223770e+07</td>\n",
       "      <td>24.2</td>\n",
       "      <td>23.6</td>\n",
       "      <td>23.90</td>\n",
       "      <td>0.008827</td>\n",
       "      <td>0</td>\n",
       "    </tr>\n",
       "    <tr>\n",
       "      <th>1</th>\n",
       "      <td>India</td>\n",
       "      <td>1339180000</td>\n",
       "      <td>2.597491e+06</td>\n",
       "      <td>21.8</td>\n",
       "      <td>22.1</td>\n",
       "      <td>21.95</td>\n",
       "      <td>0.001940</td>\n",
       "      <td>0</td>\n",
       "    </tr>\n",
       "    <tr>\n",
       "      <th>2</th>\n",
       "      <td>United States</td>\n",
       "      <td>325719000</td>\n",
       "      <td>1.939060e+07</td>\n",
       "      <td>28.8</td>\n",
       "      <td>28.8</td>\n",
       "      <td>28.80</td>\n",
       "      <td>0.059532</td>\n",
       "      <td>1</td>\n",
       "    </tr>\n",
       "    <tr>\n",
       "      <th>3</th>\n",
       "      <td>Indonesia</td>\n",
       "      <td>263991000</td>\n",
       "      <td>1.015539e+06</td>\n",
       "      <td>22.4</td>\n",
       "      <td>23.4</td>\n",
       "      <td>22.90</td>\n",
       "      <td>0.003847</td>\n",
       "      <td>0</td>\n",
       "    </tr>\n",
       "    <tr>\n",
       "      <th>4</th>\n",
       "      <td>Brazil</td>\n",
       "      <td>209288000</td>\n",
       "      <td>2.055506e+06</td>\n",
       "      <td>25.9</td>\n",
       "      <td>26.0</td>\n",
       "      <td>25.95</td>\n",
       "      <td>0.009821</td>\n",
       "      <td>1</td>\n",
       "    </tr>\n",
       "  </tbody>\n",
       "</table>\n",
       "</div>"
      ],
      "text/plain": [
       "         Country   Poblacion  Million Dolar  Male  Female  BMI medio  \\\n",
       "0          China  1386395000   1.223770e+07  24.2    23.6      23.90   \n",
       "1          India  1339180000   2.597491e+06  21.8    22.1      21.95   \n",
       "2  United States   325719000   1.939060e+07  28.8    28.8      28.80   \n",
       "3      Indonesia   263991000   1.015539e+06  22.4    23.4      22.90   \n",
       "4         Brazil   209288000   2.055506e+06  25.9    26.0      25.95   \n",
       "\n",
       "   pib/poblacion  Sobrepeso  \n",
       "0       0.008827          0  \n",
       "1       0.001940          0  \n",
       "2       0.059532          1  \n",
       "3       0.003847          0  \n",
       "4       0.009821          1  "
      ]
     },
     "execution_count": 118,
     "metadata": {},
     "output_type": "execute_result"
    }
   ],
   "source": [
    "df2.head()"
   ]
  },
  {
   "cell_type": "code",
   "execution_count": 140,
   "metadata": {
    "scrolled": true
   },
   "outputs": [
    {
     "data": {
      "text/plain": [
       "<matplotlib.collections.PathCollection at 0x7f40bfe77978>"
      ]
     },
     "execution_count": 140,
     "metadata": {},
     "output_type": "execute_result"
    },
    {
     "data": {
      "image/png": "[encoded data removed]",
      "text/plain": [
       "<Figure size 432x288 with 1 Axes>"
      ]
     },
     "metadata": {},
     "output_type": "display_data"
    }
   ],
   "source": [
    "plt.scatter(df2[\"Million Dolar\"], df2[\"Poblacion\"], c=df2[\"Sobrepeso\"])"
   ]
  },
  {
   "cell_type": "code",
   "execution_count": null,
   "metadata": {},
   "outputs": [],
   "source": [
    "#vemos que hay outliers tanto en pib como en poblacion"
   ]
  },
  {
   "cell_type": "code",
   "execution_count": 141,
   "metadata": {},
   "outputs": [],
   "source": [
    "X = df2[[\"Million Dolar\",\"Poblacion\"]].values \n",
    "y = df2[\"Sobrepeso\"]"
   ]
  },
  {
   "cell_type": "code",
   "execution_count": 142,
   "metadata": {},
   "outputs": [
    {
     "data": {
      "text/plain": [
       "array([[1.22377005e+07, 1.38639500e+09],\n",
       "       [2.59749116e+06, 1.33918000e+09],\n",
       "       [1.93906040e+07, 3.25719000e+08],\n",
       "       [1.01553902e+06, 2.63991000e+08],\n",
       "       [2.05550550e+06, 2.09288000e+08]])"
      ]
     },
     "execution_count": 142,
     "metadata": {},
     "output_type": "execute_result"
    }
   ],
   "source": [
    "X[:5]"
   ]
  },
  {
   "cell_type": "code",
   "execution_count": 143,
   "metadata": {},
   "outputs": [
    {
     "data": {
      "text/plain": [
       "0    0\n",
       "1    0\n",
       "2    1\n",
       "3    0\n",
       "4    1\n",
       "Name: Sobrepeso, dtype: int64"
      ]
     },
     "execution_count": 143,
     "metadata": {},
     "output_type": "execute_result"
    }
   ],
   "source": [
    "y[:5]"
   ]
  },
  {
   "cell_type": "code",
   "execution_count": 144,
   "metadata": {},
   "outputs": [],
   "source": [
    "from sklearn.neighbors import KNeighborsClassifier\n",
    "clf = KNeighborsClassifier(n_neighbors=5)"
   ]
  },
  {
   "cell_type": "code",
   "execution_count": 145,
   "metadata": {},
   "outputs": [
    {
     "data": {
      "text/plain": [
       "KNeighborsClassifier(algorithm='auto', leaf_size=30, metric='minkowski',\n",
       "           metric_params=None, n_jobs=1, n_neighbors=5, p=2,\n",
       "           weights='uniform')"
      ]
     },
     "execution_count": 145,
     "metadata": {},
     "output_type": "execute_result"
    }
   ],
   "source": [
    "clf.fit(X, y)"
   ]
  },
  {
   "cell_type": "code",
   "execution_count": 148,
   "metadata": {},
   "outputs": [
    {
     "data": {
      "text/plain": [
       "array([0])"
      ]
     },
     "execution_count": 148,
     "metadata": {},
     "output_type": "execute_result"
    }
   ],
   "source": [
    "clf.predict([[1.22377005e+07,1.38639500e+09]])"
   ]
  },
  {
   "cell_type": "code",
   "execution_count": 154,
   "metadata": {},
   "outputs": [
    {
     "data": {
      "text/plain": [
       "<matplotlib.collections.PathCollection at 0x7f40bfdb47f0>"
      ]
     },
     "execution_count": 154,
     "metadata": {},
     "output_type": "execute_result"
    },
    {
     "data": {
      "image/png": "[encoded data removed]",
      "text/plain": [
       "<Figure size 432x288 with 1 Axes>"
      ]
     },
     "metadata": {},
     "output_type": "display_data"
    }
   ],
   "source": [
    "plt.scatter([1.22377005e+07],[1.38639500e+09],c=[0])"
   ]
  },
  {
   "cell_type": "code",
   "execution_count": 155,
   "metadata": {},
   "outputs": [],
   "source": [
    "from sklearn.model_selection import train_test_split"
   ]
  },
  {
   "cell_type": "code",
   "execution_count": 172,
   "metadata": {},
   "outputs": [],
   "source": [
    "X_train, X_test, y_train, y_test = train_test_split(X, y, test_size=0.20, random_state=100)  "
   ]
  },
  {
   "cell_type": "code",
   "execution_count": 173,
   "metadata": {},
   "outputs": [
    {
     "data": {
      "text/plain": [
       "KNeighborsClassifier(algorithm='auto', leaf_size=30, metric='minkowski',\n",
       "           metric_params=None, n_jobs=1, n_neighbors=5, p=2,\n",
       "           weights='uniform')"
      ]
     },
     "execution_count": 173,
     "metadata": {},
     "output_type": "execute_result"
    }
   ],
   "source": [
    "clf.fit(X_train, y_train)"
   ]
  },
  {
   "cell_type": "code",
   "execution_count": 174,
   "metadata": {},
   "outputs": [],
   "source": [
    "from sklearn.metrics import accuracy_score"
   ]
  },
  {
   "cell_type": "code",
   "execution_count": 175,
   "metadata": {},
   "outputs": [
    {
     "data": {
      "text/plain": [
       "0.8"
      ]
     },
     "execution_count": 175,
     "metadata": {},
     "output_type": "execute_result"
    }
   ],
   "source": [
    "accuracy_score(y_test, clf.predict(X_test))"
   ]
  },
  {
   "cell_type": "code",
   "execution_count": 176,
   "metadata": {},
   "outputs": [
    {
     "data": {
      "text/plain": [
       "array([0.32758621, 0.10526316, 0.67857143])"
      ]
     },
     "execution_count": 176,
     "metadata": {},
     "output_type": "execute_result"
    }
   ],
   "source": [
    "from sklearn.model_selection import cross_val_score\n",
    "cross_val_score(clf, X, y)"
   ]
  },
  {
   "cell_type": "code",
   "execution_count": 177,
   "metadata": {},
   "outputs": [
    {
     "data": {
      "text/plain": [
       "array([0.33333333, 0.        , 0.05555556, 0.44444444, 0.66666667,\n",
       "       0.23529412, 0.25      , 0.        , 0.375     , 0.6875    ])"
      ]
     },
     "execution_count": 177,
     "metadata": {},
     "output_type": "execute_result"
    }
   ],
   "source": [
    "cross_val_score(clf, X, y, cv=10)"
   ]
  },
  {
   "cell_type": "code",
   "execution_count": 178,
   "metadata": {},
   "outputs": [
    {
     "data": {
      "image/png": "[encoded data removed]",
      "text/plain": [
       "<Figure size 432x288 with 1 Axes>"
      ]
     },
     "metadata": {},
     "output_type": "display_data"
    }
   ],
   "source": [
    "s = cross_val_score(clf, X, y, cv=10)\n",
    "plt.hist(s);"
   ]
  },
  {
   "cell_type": "code",
   "execution_count": 179,
   "metadata": {
    "scrolled": true
   },
   "outputs": [
    {
     "data": {
      "image/png": "[encoded data removed]",
      "text/plain": [
       "<Figure size 432x288 with 1 Axes>"
      ]
     },
     "metadata": {},
     "output_type": "display_data"
    }
   ],
   "source": [
    "s = cross_val_score(clf, X, y, cv=10, scoring=\"accuracy\")\n",
    "plt.hist(s);"
   ]
  },
  {
   "cell_type": "code",
   "execution_count": 180,
   "metadata": {},
   "outputs": [],
   "source": [
    "from ipywidgets import interact"
   ]
  },
  {
   "cell_type": "code",
   "execution_count": 181,
   "metadata": {},
   "outputs": [
    {
     "data": {
      "application/vnd.jupyter.widget-view+json": {
       "model_id": "e21d5283c0eb4f78b843c7aa8466f077",
       "version_major": 2,
       "version_minor": 0
      },
      "text/html": [
       "<p>Failed to display Jupyter Widget of type <code>interactive</code>.</p>\n",
       "<p>\n",
       "  If you're reading this message in the Jupyter Notebook or JupyterLab Notebook, it may mean\n",
       "  that the widgets JavaScript is still loading. If this message persists, it\n",
       "  likely means that the widgets JavaScript library is either not installed or\n",
       "  not enabled. See the <a href=\"https://ipywidgets.readthedocs.io/en/stable/user_install.html\">Jupyter\n",
       "  Widgets Documentation</a> for setup instructions.\n",
       "</p>\n",
       "<p>\n",
       "  If you're reading this message in another frontend (for example, a static\n",
       "  rendering on GitHub or <a href=\"https://nbviewer.jupyter.org/\">NBViewer</a>),\n",
       "  it may mean that your frontend doesn't currently support widgets.\n",
       "</p>\n"
      ],
      "text/plain": [
       "interactive(children=(IntSlider(value=5, description='k', max=15, min=-5), Output()), _dom_classes=('widget-interact',))"
      ]
     },
     "metadata": {},
     "output_type": "display_data"
    }
   ],
   "source": [
    "@interact(k=5)\n",
    "def show(k):\n",
    "    clf=KNeighborsClassifier(n_neighbors=k)\n",
    "    clf.fit(X,y)\n",
    "    print(cross_val_score(clf,X,y,cv=10,scoring=\"accuracy\").mean())"
   ]
  },
  {
   "cell_type": "code",
   "execution_count": 182,
   "metadata": {},
   "outputs": [],
   "source": [
    "from sklearn.model_selection import GridSearchCV"
   ]
  },
  {
   "cell_type": "code",
   "execution_count": 183,
   "metadata": {},
   "outputs": [],
   "source": [
    "clf2=GridSearchCV(estimator=KNeighborsClassifier(n_neighbors=1),\n",
    "                  param_grid={\"n_neighbors\":np.arange(1,50)},)\n",
    "\n",
    "#hemos creado un clasificador para saber con que numero de vecinos es el mejor parametro para el scoring que le demos"
   ]
  },
  {
   "cell_type": "code",
   "execution_count": 184,
   "metadata": {},
   "outputs": [
    {
     "data": {
      "text/plain": [
       "GridSearchCV(cv=None, error_score='raise',\n",
       "       estimator=KNeighborsClassifier(algorithm='auto', leaf_size=30, metric='minkowski',\n",
       "           metric_params=None, n_jobs=1, n_neighbors=1, p=2,\n",
       "           weights='uniform'),\n",
       "       fit_params=None, iid=True, n_jobs=1,\n",
       "       param_grid={'n_neighbors': array([ 1,  2,  3,  4,  5,  6,  7,  8,  9, 10, 11, 12, 13, 14, 15, 16, 17,\n",
       "       18, 19, 20, 21, 22, 23, 24, 25, 26, 27, 28, 29, 30, 31, 32, 33, 34,\n",
       "       35, 36, 37, 38, 39, 40, 41, 42, 43, 44, 45, 46, 47, 48, 49])},\n",
       "       pre_dispatch='2*n_jobs', refit=True, return_train_score='warn',\n",
       "       scoring=None, verbose=0)"
      ]
     },
     "execution_count": 184,
     "metadata": {},
     "output_type": "execute_result"
    }
   ],
   "source": [
    "clf2.fit(X,y)"
   ]
  },
  {
   "cell_type": "code",
   "execution_count": 185,
   "metadata": {
    "scrolled": true
   },
   "outputs": [
    {
     "data": {
      "text/plain": [
       "{'n_neighbors': 47}"
      ]
     },
     "execution_count": 185,
     "metadata": {},
     "output_type": "execute_result"
    }
   ],
   "source": [
    "clf2.best_params_"
   ]
  },
  {
   "cell_type": "code",
   "execution_count": null,
   "metadata": {},
   "outputs": [],
   "source": [
    "# La conclusión que podemos tomar es que las diferencia entre países no nos hace sacar un modelo claro de comportamiento."
   ]
  },
  {
   "cell_type": "code",
   "execution_count": null,
   "metadata": {},
   "outputs": [],
   "source": []
  },
  {
   "cell_type": "code",
   "execution_count": null,
   "metadata": {},
   "outputs": [],
   "source": []
  }
 ],
 "metadata": {
  "kernelspec": {
   "display_name": "Python 3",
   "language": "python",
   "name": "python3"
  },
  "language_info": {
   "codemirror_mode": {
    "name": "ipython",
    "version": 3
   },
   "file_extension": ".py",
   "mimetype": "text/x-python",
   "name": "python",
   "nbconvert_exporter": "python",
   "pygments_lexer": "ipython3",
   "version": "3.6.4"
  }
 },
 "nbformat": 4,
 "nbformat_minor": 2
}
